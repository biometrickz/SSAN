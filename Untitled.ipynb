{
 "cells": [
  {
   "cell_type": "markdown",
   "metadata": {},
   "source": [
    "# Datasets preparation. 1. Creating labels"
   ]
  },
  {
   "cell_type": "code",
   "execution_count": 32,
   "id": "6680d6e1-d4a3-45da-b138-252c1803b830",
   "metadata": {},
   "outputs": [],
   "source": [
    "import os\n",
    "import pandas as pd\n",
    "from utils import *"
   ]
  },
  {
   "cell_type": "code",
   "execution_count": 34,
   "id": "9cbbcb79",
   "metadata": {},
   "outputs": [
    {
     "data": {
      "text/html": [
       "<div>\n",
       "<style scoped>\n",
       "    .dataframe tbody tr th:only-of-type {\n",
       "        vertical-align: middle;\n",
       "    }\n",
       "\n",
       "    .dataframe tbody tr th {\n",
       "        vertical-align: top;\n",
       "    }\n",
       "\n",
       "    .dataframe thead th {\n",
       "        text-align: right;\n",
       "    }\n",
       "</style>\n",
       "<table border=\"1\" class=\"dataframe\">\n",
       "  <thead>\n",
       "    <tr style=\"text-align: right;\">\n",
       "      <th></th>\n",
       "      <th>label</th>\n",
       "      <th>fname</th>\n",
       "    </tr>\n",
       "  </thead>\n",
       "  <tbody>\n",
       "    <tr>\n",
       "      <th>0</th>\n",
       "      <td>1</td>\n",
       "      <td>f902acda-625c-45cc-b70b-587c4d5634cb.jpeg</td>\n",
       "    </tr>\n",
       "    <tr>\n",
       "      <th>1</th>\n",
       "      <td>1</td>\n",
       "      <td>live_002385_000001.jpg</td>\n",
       "    </tr>\n",
       "    <tr>\n",
       "      <th>2</th>\n",
       "      <td>1</td>\n",
       "      <td>live_009203_000001.jpg</td>\n",
       "    </tr>\n",
       "    <tr>\n",
       "      <th>3</th>\n",
       "      <td>1</td>\n",
       "      <td>6a84f73a-9c0b-4872-a7c2-68da8dd154c8.jpeg</td>\n",
       "    </tr>\n",
       "    <tr>\n",
       "      <th>4</th>\n",
       "      <td>1</td>\n",
       "      <td>48f54369-46bb-45ec-ba1b-973987a23632.jpg</td>\n",
       "    </tr>\n",
       "    <tr>\n",
       "      <th>...</th>\n",
       "      <td>...</td>\n",
       "      <td>...</td>\n",
       "    </tr>\n",
       "    <tr>\n",
       "      <th>59421</th>\n",
       "      <td>0</td>\n",
       "      <td>2dmask_173_03.png</td>\n",
       "    </tr>\n",
       "    <tr>\n",
       "      <th>59422</th>\n",
       "      <td>0</td>\n",
       "      <td>images - 2023-09-26T155037.213.jpg</td>\n",
       "    </tr>\n",
       "    <tr>\n",
       "      <th>59423</th>\n",
       "      <td>0</td>\n",
       "      <td>frameNr_175_IMG_2320.jpg</td>\n",
       "    </tr>\n",
       "    <tr>\n",
       "      <th>59424</th>\n",
       "      <td>0</td>\n",
       "      <td>3D-GarageKit_001137_000001.jpg</td>\n",
       "    </tr>\n",
       "    <tr>\n",
       "      <th>59425</th>\n",
       "      <td>0</td>\n",
       "      <td>3D-AdultDoll_000071_006179.jpg</td>\n",
       "    </tr>\n",
       "  </tbody>\n",
       "</table>\n",
       "<p>59426 rows × 2 columns</p>\n",
       "</div>"
      ],
      "text/plain": [
       "       label                                      fname\n",
       "0          1  f902acda-625c-45cc-b70b-587c4d5634cb.jpeg\n",
       "1          1                     live_002385_000001.jpg\n",
       "2          1                     live_009203_000001.jpg\n",
       "3          1  6a84f73a-9c0b-4872-a7c2-68da8dd154c8.jpeg\n",
       "4          1   48f54369-46bb-45ec-ba1b-973987a23632.jpg\n",
       "...      ...                                        ...\n",
       "59421      0                          2dmask_173_03.png\n",
       "59422      0         images - 2023-09-26T155037.213.jpg\n",
       "59423      0                   frameNr_175_IMG_2320.jpg\n",
       "59424      0             3D-GarageKit_001137_000001.jpg\n",
       "59425      0             3D-AdultDoll_000071_006179.jpg\n",
       "\n",
       "[59426 rows x 2 columns]"
      ]
     },
     "execution_count": 34,
     "metadata": {},
     "output_type": "execute_result"
    }
   ],
   "source": [
    "train_csv = '/mnt/8TB/ml_projects_yeldar/patchnet/train/train_list.csv'\n",
    "df = pd.read_csv(train_csv)\n",
    "df"
   ]
  },
  {
   "cell_type": "code",
   "execution_count": 35,
   "id": "eadcfaf3",
   "metadata": {},
   "outputs": [
    {
     "data": {
      "text/html": [
       "<div>\n",
       "<style scoped>\n",
       "    .dataframe tbody tr th:only-of-type {\n",
       "        vertical-align: middle;\n",
       "    }\n",
       "\n",
       "    .dataframe tbody tr th {\n",
       "        vertical-align: top;\n",
       "    }\n",
       "\n",
       "    .dataframe thead th {\n",
       "        text-align: right;\n",
       "    }\n",
       "</style>\n",
       "<table border=\"1\" class=\"dataframe\">\n",
       "  <thead>\n",
       "    <tr style=\"text-align: right;\">\n",
       "      <th></th>\n",
       "      <th>0</th>\n",
       "      <th>1</th>\n",
       "    </tr>\n",
       "  </thead>\n",
       "  <tbody>\n",
       "    <tr>\n",
       "      <th>1</th>\n",
       "      <td>1</td>\n",
       "      <td>f902acda-625c-45cc-b70b-587c4d5634cb.jpeg</td>\n",
       "    </tr>\n",
       "    <tr>\n",
       "      <th>2</th>\n",
       "      <td>1</td>\n",
       "      <td>live_002385_000001.jpg</td>\n",
       "    </tr>\n",
       "    <tr>\n",
       "      <th>3</th>\n",
       "      <td>1</td>\n",
       "      <td>live_009203_000001.jpg</td>\n",
       "    </tr>\n",
       "    <tr>\n",
       "      <th>4</th>\n",
       "      <td>1</td>\n",
       "      <td>6a84f73a-9c0b-4872-a7c2-68da8dd154c8.jpeg</td>\n",
       "    </tr>\n",
       "    <tr>\n",
       "      <th>5</th>\n",
       "      <td>1</td>\n",
       "      <td>48f54369-46bb-45ec-ba1b-973987a23632.jpg</td>\n",
       "    </tr>\n",
       "    <tr>\n",
       "      <th>...</th>\n",
       "      <td>...</td>\n",
       "      <td>...</td>\n",
       "    </tr>\n",
       "    <tr>\n",
       "      <th>59422</th>\n",
       "      <td>0</td>\n",
       "      <td>2dmask_173_03.png</td>\n",
       "    </tr>\n",
       "    <tr>\n",
       "      <th>59423</th>\n",
       "      <td>0</td>\n",
       "      <td>images - 2023-09-26T155037.213.jpg</td>\n",
       "    </tr>\n",
       "    <tr>\n",
       "      <th>59424</th>\n",
       "      <td>0</td>\n",
       "      <td>frameNr_175_IMG_2320.jpg</td>\n",
       "    </tr>\n",
       "    <tr>\n",
       "      <th>59425</th>\n",
       "      <td>0</td>\n",
       "      <td>3D-GarageKit_001137_000001.jpg</td>\n",
       "    </tr>\n",
       "    <tr>\n",
       "      <th>59426</th>\n",
       "      <td>0</td>\n",
       "      <td>3D-AdultDoll_000071_006179.jpg</td>\n",
       "    </tr>\n",
       "  </tbody>\n",
       "</table>\n",
       "<p>59426 rows × 2 columns</p>\n",
       "</div>"
      ],
      "text/plain": [
       "       0                                          1\n",
       "1      1  f902acda-625c-45cc-b70b-587c4d5634cb.jpeg\n",
       "2      1                     live_002385_000001.jpg\n",
       "3      1                     live_009203_000001.jpg\n",
       "4      1  6a84f73a-9c0b-4872-a7c2-68da8dd154c8.jpeg\n",
       "5      1   48f54369-46bb-45ec-ba1b-973987a23632.jpg\n",
       "...   ..                                        ...\n",
       "59422  0                          2dmask_173_03.png\n",
       "59423  0         images - 2023-09-26T155037.213.jpg\n",
       "59424  0                   frameNr_175_IMG_2320.jpg\n",
       "59425  0             3D-GarageKit_001137_000001.jpg\n",
       "59426  0             3D-AdultDoll_000071_006179.jpg\n",
       "\n",
       "[59426 rows x 2 columns]"
      ]
     },
     "execution_count": 35,
     "metadata": {},
     "output_type": "execute_result"
    }
   ],
   "source": [
    "df = pd.read_csv(train_csv, header=None).drop([0], axis=0)\n",
    "df"
   ]
  },
  {
   "cell_type": "code",
   "execution_count": 37,
   "id": "56b43d73",
   "metadata": {},
   "outputs": [
    {
     "data": {
      "text/plain": [
       "'live_005817_000001.jpg'"
      ]
     },
     "execution_count": 37,
     "metadata": {},
     "output_type": "execute_result"
    }
   ],
   "source": [
    "df.iloc[15, 1]"
   ]
  },
  {
   "cell_type": "code",
   "execution_count": 26,
   "id": "b50f6d12-156a-44c7-b2a7-7664e393588d",
   "metadata": {},
   "outputs": [],
   "source": [
    "def generate_labels_csv(dirr):\n",
    "    train_files = os.listdir(dirr)\n",
    "    df = pd.DataFrame(columns=[\"label\", \"fname\"])\n",
    "    df[\"fname\"] = [os.path.join(dirr, x) for x in train_files]\n",
    "    if 'mask' in dirr:\n",
    "        df[\"label\"] = 0\n",
    "    else:\n",
    "        df[\"label\"] = 1\n",
    "    return df"
   ]
  },
  {
   "cell_type": "code",
   "execution_count": 30,
   "id": "bf664bfc",
   "metadata": {},
   "outputs": [],
   "source": [
    "dir_p = f\"/mnt/8TB/ml_projects_yeldar/patchnet\"\n",
    "for tp in ['train', 'test', 'val']:\n",
    "    # for cp in ['live', 'mask']:\n",
    "    dirr1 = f\"{dir_p}/{tp}/live\"\n",
    "    df1 = generate_labels_csv(dirr1)\n",
    "    dirr2 = f\"{dir_p}/{tp}/mask\"\n",
    "    df2 = generate_labels_csv(dirr2)\n",
    "    df = pd.concat([df1, df2], ignore_index=True)\n",
    "    # print(df.head())\n",
    "    df.to_csv(os.path.join(f\"{dir_p}/{tp}\", f\"{tp}_list.csv\"), index=False)"
   ]
  },
  {
   "cell_type": "markdown",
   "metadata": {},
   "source": [
    "## 2. Merging live and spoof images into one folder"
   ]
  },
  {
   "cell_type": "code",
   "execution_count": null,
   "metadata": {},
   "outputs": [],
   "source": [
    "def merge_folders(dir1, dir2, dest):\n",
    "    for fl in os.listdir(dir1):\n",
    "        cur_p = os.path.join(dir1, fl)\n",
    "        dst_p = os.path.join(dest, fl)\n",
    "        os.rename(cur_p, dst_p)\n",
    "    for fl2 in os.listdir(dir2):\n",
    "        cur_p = os.path.join(dir2, fl2)\n",
    "        dst_p = os.path.join(dest, fl2)\n",
    "        os.rename(cur_p, dst_p)\n"
   ]
  },
  {
   "cell_type": "code",
   "execution_count": null,
   "metadata": {},
   "outputs": [],
   "source": [
    "dirr1 = \"/home/yeldar/Documents/adds-depthnet/padded2/test/live\"\n",
    "dirr2 = \"/home/yeldar/Documents/adds-depthnet/padded2/test/spoof\"\n",
    "dest = \"/home/yeldar/Documents/adds-depthnet/padded2/Test_files\""
   ]
  },
  {
   "cell_type": "code",
   "execution_count": null,
   "metadata": {},
   "outputs": [],
   "source": [
    "merge_folders(dirr1, dirr2, dest)"
   ]
  },
  {
   "cell_type": "markdown",
   "id": "e7d8959c",
   "metadata": {},
   "source": [
    "## Testing inference"
   ]
  },
  {
   "cell_type": "code",
   "execution_count": 11,
   "metadata": {},
   "outputs": [
    {
     "name": "stdout",
     "output_type": "stream",
     "text": [
      "The autoreload extension is already loaded. To reload it, use:\n",
      "  %reload_ext autoreload\n"
     ]
    }
   ],
   "source": [
    "from datasets import data_merge\n",
    "from transformers import *\n",
    "import os\n",
    "import torch\n",
    "import cv2\n",
    "from tqdm import tqdm\n",
    "import numpy as np\n",
    "from torch.utils.data import DataLoader\n",
    "from networks import get_model\n",
    "from networks import SSAN_M\n",
    "%load_ext autoreload\n",
    "%autoreload 2"
   ]
  },
  {
   "cell_type": "code",
   "execution_count": 12,
   "id": "84aa59f2",
   "metadata": {},
   "outputs": [],
   "source": [
    "data_dir = \"/mnt/8TB/ml_projects_yeldar/\"\n",
    "data_bank = data_merge(data_dir)\n",
    "protocol = \"Patchnet\"\n",
    "img_size = 256\n",
    "map_size = 32\n",
    "batch_size = 16\n",
    "num_workers = 8"
   ]
  },
  {
   "cell_type": "code",
   "execution_count": 13,
   "id": "0792d902",
   "metadata": {},
   "outputs": [
    {
     "data": {
      "text/plain": [
       "<All keys matched successfully>"
      ]
     },
     "execution_count": 13,
     "metadata": {},
     "output_type": "execute_result"
    }
   ],
   "source": [
    "PATH = './results/PatchNet_27/model/SSAN_M_pPatchnet_best.pth'\n",
    "model = SSAN_M().cuda()\n",
    "model.load_state_dict(torch.load(PATH)['state_dict'])"
   ]
  },
  {
   "cell_type": "code",
   "execution_count": 14,
   "id": "715e05ca",
   "metadata": {},
   "outputs": [
    {
     "name": "stdout",
     "output_type": "stream",
     "text": [
      "HEY PATCHNET\n",
      "Loading PATCHNET, number: 34793\n",
      "Total number: 34793\n"
     ]
    }
   ],
   "source": [
    "test_data_dic = data_bank.get_datasets(type='test', protocol=protocol, img_size=img_size, transform=transformer_test_video())\n",
    "test_loader = DataLoader(test_data_dic, batch_size=batch_size, shuffle=False, num_workers=num_workers)"
   ]
  },
  {
   "cell_type": "code",
   "execution_count": 15,
   "id": "6565da93",
   "metadata": {},
   "outputs": [
    {
     "name": "stderr",
     "output_type": "stream",
     "text": [
      "2175it [05:49,  6.22it/s]"
     ]
    },
    {
     "name": "stdout",
     "output_type": "stream",
     "text": [
      "score: write test scores to ./test_score.txt\n"
     ]
    },
    {
     "name": "stderr",
     "output_type": "stream",
     "text": [
      "\n"
     ]
    },
    {
     "ename": "NameError",
     "evalue": "name 'performances_val' is not defined",
     "output_type": "error",
     "traceback": [
      "\u001b[0;31m---------------------------------------------------------------------------\u001b[0m",
      "\u001b[0;31mNameError\u001b[0m                                 Traceback (most recent call last)",
      "Cell \u001b[0;32mIn [15], line 17\u001b[0m\n\u001b[1;32m     14\u001b[0m \u001b[38;5;28;01mwith\u001b[39;00m \u001b[38;5;28mopen\u001b[39m(map_score_val_filename, \u001b[38;5;124m'\u001b[39m\u001b[38;5;124mw\u001b[39m\u001b[38;5;124m'\u001b[39m) \u001b[38;5;28;01mas\u001b[39;00m file:\n\u001b[1;32m     15\u001b[0m     file\u001b[38;5;241m.\u001b[39mwritelines(scores)\n\u001b[0;32m---> 17\u001b[0m test_ACC, fpr, FRR, HTER, auc_test, test_err \u001b[38;5;241m=\u001b[39m \u001b[43mperformances_val\u001b[49m(map_score_val_filename)\n",
      "\u001b[0;31mNameError\u001b[0m: name 'performances_val' is not defined"
     ]
    }
   ],
   "source": [
    "model.eval()\n",
    "with torch.no_grad():\n",
    "    scores = []\n",
    "    for i, sample_batched in tqdm(enumerate(test_loader)):\n",
    "        image_x, label = sample_batched[\"image_x\"].cuda(), sample_batched[\"label\"].cuda()\n",
    "        pred_map, fea_x1_x1, fea_x1_x2, _ = model(image_x, image_x)\n",
    "        score_norm = torch.sum(pred_map, dim=(1, 2))/(map_size*map_size)\n",
    "\n",
    "        for ii in range(image_x.shape[0]):\n",
    "            scores.append(\"{} {}\\n\".format(score_norm[ii], label[ii][0]))\n",
    "                    \n",
    "    map_score_val_filename = os.path.join('./', \"{}_score.txt\".format('test'))\n",
    "    print(\"score: write test scores to {}\".format(map_score_val_filename))\n",
    "    with open(map_score_val_filename, 'w') as file:\n",
    "        file.writelines(scores)\n",
    "\n",
    "    test_ACC, fpr, FRR, HTER, auc_test, test_err = performances_val(map_score_val_filename)\n"
   ]
  },
  {
   "cell_type": "markdown",
   "id": "f68033f8",
   "metadata": {},
   "source": [
    "# Model's metrics"
   ]
  },
  {
   "cell_type": "code",
   "execution_count": 1,
   "id": "0d4d9228",
   "metadata": {},
   "outputs": [],
   "source": [
    "from sklearn.metrics import confusion_matrix\n",
    "import pandas as pd\n",
    "from matplotlib import pyplot as plt\n",
    "import seaborn as sns\n",
    "import numpy as np\n",
    "\n",
    "def overall_result(y_, y_predicted):\n",
    "# save confusion matrix and slice into four pieces\n",
    "\n",
    "    conf_matrix = confusion_matrix(y_, y_predicted)\n",
    "    TP = conf_matrix[1][1]\n",
    "    TN = conf_matrix[0][0]\n",
    "    FP = conf_matrix[0][1]\n",
    "    FN = conf_matrix[1][0]\n",
    "\n",
    "\n",
    "    # calculate accuracy\n",
    "    conf_accuracy = (float (TP+TN) / float(TP + TN + FP + FN))\n",
    "\n",
    "    # calculate mis-classification\n",
    "    conf_misclassification = 1- conf_accuracy\n",
    "\n",
    "    # calculate the sensitivity\n",
    "    conf_sensitivity = (TP / float(TP + FN))\n",
    "    # calculate the specificity\n",
    "    conf_specificity = (TN / float(TN + FP))\n",
    "    # calculate precision\n",
    "    conf_precision = (TP / float(TP + FP))\n",
    "    # calculate f_1 score\n",
    "    conf_f1 = 2 * ((conf_precision * conf_sensitivity) / (conf_precision + conf_sensitivity))\n",
    "    conf_far = FN/float(TP + FN)\n",
    "    conf_frr = FP/float(TN + FP)\n",
    "\n",
    "    result_s = {}\n",
    "    result_s['Accuracy']           = [str(round(conf_accuracy,2)*100)+' %']\n",
    "#    result_s['Mis-Classification'] = [str(round(conf_misclassification,2)*100)+' %']\n",
    "#     result_s['Sensitivity']        = [round(conf_sensitivity,2)]\n",
    "#     result_s['Specificity']        = [round(conf_specificity,2)]\n",
    "    result_s['Recall']        = [str(round(conf_sensitivity,2)*100)+' %']\n",
    "    result_s['Precision']          = [str(round(conf_precision,2)*100)+' %']\n",
    "    result_s['F1 Score']           = [str(round(conf_f1,2)*100)+' %']\n",
    "    result_s['FRR']                = [str(round(conf_far,2)*100)+' %']\n",
    "    result_s['FAR']                = [str(round(conf_frr,2)*100)+' %']\n",
    "    #result_s['inference_time']     = [str(round(sum(inferences_time),2))+ 's']\n",
    "    #result_s['MCC']                = [round(matthews_corrcoef(y_, y_predicted),2)]\n",
    "    \n",
    "\n",
    "\n",
    "    df_result           = pd.DataFrame(result_s)\n",
    "    \n",
    "    return df_result"
   ]
  },
  {
   "cell_type": "code",
   "execution_count": 18,
   "id": "1483c6a9",
   "metadata": {},
   "outputs": [],
   "source": [
    "map_score_val_filename = '/home/user/ml_projects/Yeldar/SSAN/results/PatchNet_27/score/epoch_27/PATCHNET_score.txt'\n",
    "# map_score_val_filename = './test_score.txt'\n",
    "\n",
    "with open(map_score_val_filename, 'r') as file:\n",
    "    lines = file.readlines()\n",
    "val_scores = []\n",
    "val_labels = []\n",
    "data = []\n",
    "count = 0.0\n",
    "for line in lines:\n",
    "    # try:\n",
    "    count += 1\n",
    "    tokens = line.split()\n",
    "    score = float(tokens[0])\n",
    "    label = float(tokens[1])  # int(tokens[1])\n",
    "    val_scores.append(score)\n",
    "    val_labels.append(label)"
   ]
  },
  {
   "cell_type": "code",
   "execution_count": 19,
   "id": "af636148",
   "metadata": {},
   "outputs": [
    {
     "data": {
      "text/html": [
       "<div>\n",
       "<style scoped>\n",
       "    .dataframe tbody tr th:only-of-type {\n",
       "        vertical-align: middle;\n",
       "    }\n",
       "\n",
       "    .dataframe tbody tr th {\n",
       "        vertical-align: top;\n",
       "    }\n",
       "\n",
       "    .dataframe thead th {\n",
       "        text-align: right;\n",
       "    }\n",
       "</style>\n",
       "<table border=\"1\" class=\"dataframe\">\n",
       "  <thead>\n",
       "    <tr style=\"text-align: right;\">\n",
       "      <th></th>\n",
       "      <th>Accuracy</th>\n",
       "      <th>Recall</th>\n",
       "      <th>Precision</th>\n",
       "      <th>F1 Score</th>\n",
       "      <th>FRR</th>\n",
       "      <th>FAR</th>\n",
       "    </tr>\n",
       "  </thead>\n",
       "  <tbody>\n",
       "    <tr>\n",
       "      <th>0</th>\n",
       "      <td>97.0 %</td>\n",
       "      <td>97.0 %</td>\n",
       "      <td>100.0 %</td>\n",
       "      <td>98.0 %</td>\n",
       "      <td>3.0 %</td>\n",
       "      <td>20.0 %</td>\n",
       "    </tr>\n",
       "  </tbody>\n",
       "</table>\n",
       "</div>"
      ],
      "text/plain": [
       "  Accuracy  Recall Precision F1 Score    FRR     FAR\n",
       "0   97.0 %  97.0 %   100.0 %   98.0 %  3.0 %  20.0 %"
      ]
     },
     "execution_count": 19,
     "metadata": {},
     "output_type": "execute_result"
    }
   ],
   "source": [
    "y_true = np.array(val_labels)\n",
    "y_true = y_true.astype(int)\n",
    "y_pred = np.array(val_scores)\n",
    "best_threshold = 0.20507009327411652\n",
    "# best_threshold = 0.350175142288208\n",
    "y_pred = [1 if score>best_threshold else 0 for score in y_pred] \n",
    "# 1 = live  \n",
    "#0=mask\n",
    "\n",
    "metrics = overall_result(y_true, y_pred)\n",
    "metrics"
   ]
  },
  {
   "cell_type": "code",
   "execution_count": 13,
   "id": "ae5c32b0",
   "metadata": {},
   "outputs": [
    {
     "data": {
      "image/png": "[encoded data removed]",
      "text/plain": [
       "<Figure size 500x500 with 2 Axes>"
      ]
     },
     "metadata": {},
     "output_type": "display_data"
    }
   ],
   "source": [
    "colors_dark = [\"#1F1F1F\", \"#313131\", '#636363', '#AEAEAE', '#DADADA']\n",
    "colors_red = [\"#331313\", \"#582626\", '#9E1717', '#D35151', '#E9B4B4']\n",
    "colors_green = ['#01411C','#4B6F44','#4F7942','#74C365','#D0F0C0']\n",
    "colors_lightsteelblue = ['#CAE1FF', '#BCD2EE', '#A2B5CD', '#6E7B8B']\n",
    "\n",
    "fig,ax=plt.subplots(1,1,figsize=(5,5))\n",
    "sns.heatmap(confusion_matrix(y_true,y_pred),ax=ax,xticklabels=['pred_mask', 'pred_live'],\n",
    "            yticklabels=['mask', 'live'],\n",
    "            annot=True,fmt='g',annot_kws={\"size\": 14},\n",
    "           cmap=colors_lightsteelblue[::1],alpha=0.7,linewidths=5,linecolor=colors_lightsteelblue[2])\n",
    "fig.text(s='Mask Detection th=...',size=13,fontweight='bold',\n",
    "             fontname='monospace',color='black',y=0.92,x=0.28,alpha=0.8)\n",
    "sns.set(font_scale=1.1)\n",
    "plt.show()"
   ]
  },
  {
   "cell_type": "code",
   "execution_count": 26,
   "id": "749b9ce1",
   "metadata": {},
   "outputs": [
    {
     "data": {
      "image/png": "[encoded data removed]",
      "text/plain": [
       "<Figure size 500x500 with 2 Axes>"
      ]
     },
     "metadata": {},
     "output_type": "display_data"
    }
   ],
   "source": [
    "colors_dark = [\"#1F1F1F\", \"#313131\", '#636363', '#AEAEAE', '#DADADA']\n",
    "colors_red = [\"#331313\", \"#582626\", '#9E1717', '#D35151', '#E9B4B4']\n",
    "colors_green = ['#01411C','#4B6F44','#4F7942','#74C365','#D0F0C0']\n",
    "colors_lightsteelblue = ['#CAE1FF', '#BCD2EE', '#A2B5CD', '#6E7B8B']\n",
    "\n",
    "fig,ax=plt.subplots(1,1,figsize=(5,5))\n",
    "sns.heatmap(confusion_matrix(y_true,y_pred),ax=ax,xticklabels=['pred_mask', 'pred_live'],\n",
    "            yticklabels=['mask', 'live'],\n",
    "            annot=True,fmt='g',annot_kws={\"size\": 14},\n",
    "           cmap=colors_lightsteelblue[::1],alpha=0.7,linewidths=5,linecolor=colors_lightsteelblue[2])\n",
    "fig.text(s='Mask Detection th=...',size=13,fontweight='bold',\n",
    "             fontname='monospace',color='black',y=0.92,x=0.28,alpha=0.8)\n",
    "sns.set(font_scale=1.1)\n",
    "plt.show()"
   ]
  },
  {
   "cell_type": "code",
   "execution_count": 4,
   "id": "08118fef",
   "metadata": {},
   "outputs": [
    {
     "name": "stderr",
     "output_type": "stream",
     "text": [
      "No artists with labels found to put in legend.  Note that artists whose label start with an underscore are ignored when legend() is called with no argument.\n"
     ]
    },
    {
     "name": "stdout",
     "output_type": "stream",
     "text": [
      "Best threshold: 0.0\n",
      "Best F1-score: 0.9988612046202555\n"
     ]
    },
    {
     "data": {
      "image/png": "[encoded data removed]",
      "text/plain": [
       "<Figure size 640x480 with 1 Axes>"
      ]
     },
     "metadata": {},
     "output_type": "display_data"
    },
    {
     "data": {
      "image/png": "[encoded data removed]",
      "text/plain": [
       "<Figure size 640x480 with 1 Axes>"
      ]
     },
     "metadata": {},
     "output_type": "display_data"
    }
   ],
   "source": [
    "import numpy as np\n",
    "from sklearn.metrics import precision_recall_curve, f1_score, roc_curve\n",
    "from sklearn.metrics import PrecisionRecallDisplay, RocCurveDisplay\n",
    "import matplotlib.pyplot as plt\n",
    "\n",
    "def choose_best_threshold(true_labels, scores):\n",
    "    # Initialize variables to track the best threshold and F1-score\n",
    "    best_threshold = 0.0\n",
    "    best_f1 = 0.0\n",
    "\n",
    "    # Calculate precision and recall values for various thresholds\n",
    "    precision, recall, thresholds = precision_recall_curve(true_labels, scores)\n",
    "\n",
    "    # Iterate through each threshold and calculate the F1-score\n",
    "    for i, threshold in enumerate(thresholds):\n",
    "        current_f1 = f1_score(true_labels, scores >= threshold)\n",
    "        # Update best threshold and F1-score if current F1-score is better\n",
    "        if current_f1 > best_f1:\n",
    "            best_f1 = current_f1\n",
    "            best_threshold = threshold\n",
    "\n",
    "    return best_threshold, best_f1\n",
    "\n",
    "# Example usage:\n",
    "# true_labels: Array of true binary labels (0 or 1)\n",
    "# scores: Array of model scores (or probabilities)\n",
    "\n",
    "# Example data (replace with your data)\n",
    "# true_labels = np.array([0, 1, 0, 1, 1, 0, 1, 0, 0, 1])\n",
    "# scores = np.array([0.1, 0.8, 0.3, 0.7, 0.9, 0.2, 0.95, 0.4, 0.1, 0.85])\n",
    "\n",
    "y_true = np.array(val_labels)\n",
    "y_true = y_true.astype(int)\n",
    "y_pred = np.array(val_scores)\n",
    "# Choose the best threshold\n",
    "best_threshold, best_f1 = choose_best_threshold(y_true, y_pred)\n",
    "print(f\"Best threshold: {best_threshold}\")\n",
    "print(f\"Best F1-score: {best_f1}\")\n",
    "\n",
    "# Plot ROC curve\n",
    "fpr, tpr, _ = roc_curve(y_true, y_pred)\n",
    "roc_display = RocCurveDisplay(fpr=fpr, tpr=tpr).plot()\n",
    "plt.title(\"ROC Curve\")\n",
    "plt.show()\n",
    "\n",
    "# Plot Precision-Recall curve\n",
    "pr_display = PrecisionRecallDisplay.from_predictions(y_true, y_pred)\n",
    "plt.title(\"Precision-Recall Curve\")\n",
    "plt.show()\n"
   ]
  },
  {
   "cell_type": "code",
   "execution_count": 5,
   "id": "ef959f12",
   "metadata": {},
   "outputs": [
    {
     "name": "stdout",
     "output_type": "stream",
     "text": [
      "Best threshold: 0.20507009327411652\n",
      "Best Gini index: 0.816926364622373\n"
     ]
    }
   ],
   "source": [
    "import numpy as np\n",
    "from sklearn.metrics import roc_curve, roc_auc_score\n",
    "\n",
    "def find_best_threshold_with_gini(y_true, y_pred_probs):\n",
    "    \"\"\"\n",
    "    Find the best threshold for a binary classifier using the Gini index.\n",
    "\n",
    "    Parameters:\n",
    "        y_true (array-like): The true binary labels (0 or 1).\n",
    "        y_pred_probs (array-like): The predicted probabilities from the classifier.\n",
    "\n",
    "    Returns:\n",
    "        best_threshold (float): The threshold that maximizes the Gini index.\n",
    "        best_gini (float): The maximum Gini index achieved.\n",
    "    \"\"\"\n",
    "    # Calculate the ROC curve\n",
    "    fpr, tpr, thresholds = roc_curve(y_true, y_pred_probs)\n",
    "    \n",
    "    # Calculate the AUC-ROC\n",
    "    auc = roc_auc_score(y_true, y_pred_probs)\n",
    "    \n",
    "    # Initialize variables to keep track of the best threshold and Gini index\n",
    "    best_gini = 0\n",
    "    best_threshold = None\n",
    "    \n",
    "    # Iterate through each threshold in the ROC curve\n",
    "    for i, threshold in enumerate(thresholds):\n",
    "        # Calculate the Gini index for the current threshold\n",
    "        current_gini = tpr[i] - fpr[i]\n",
    "        \n",
    "        # Update the best threshold and Gini index if the current one is better\n",
    "        if current_gini > best_gini:\n",
    "            best_gini = current_gini\n",
    "            best_threshold = threshold\n",
    "    \n",
    "    return best_threshold, best_gini\n",
    "\n",
    "y_true = np.array(val_labels)\n",
    "y_true = y_true.astype(int)\n",
    "y_pred = np.array(val_scores)\n",
    "# Example usage\n",
    "# y_true = np.array([0, 1, 1, 0, 1])  # Replace with your actual labels\n",
    "# y_pred_probs = np.array([0.1, 0.8, 0.6, 0.4, 0.9])  # Replace with your predicted probabilities\n",
    "\n",
    "# Find the best threshold and Gini index\n",
    "best_threshold, best_gini = find_best_threshold_with_gini(y_true, y_pred)\n",
    "\n",
    "print(f\"Best threshold: {best_threshold}\")\n",
    "print(f\"Best Gini index: {best_gini}\")\n"
   ]
  },
  {
   "cell_type": "code",
   "execution_count": null,
   "id": "585353ea",
   "metadata": {},
   "outputs": [],
   "source": []
  },
  {
   "cell_type": "code",
   "execution_count": 128,
   "id": "d2d7862a",
   "metadata": {},
   "outputs": [
    {
     "data": {
      "text/html": [
       "<div>\n",
       "<style scoped>\n",
       "    .dataframe tbody tr th:only-of-type {\n",
       "        vertical-align: middle;\n",
       "    }\n",
       "\n",
       "    .dataframe tbody tr th {\n",
       "        vertical-align: top;\n",
       "    }\n",
       "\n",
       "    .dataframe thead th {\n",
       "        text-align: right;\n",
       "    }\n",
       "</style>\n",
       "<table border=\"1\" class=\"dataframe\">\n",
       "  <thead>\n",
       "    <tr style=\"text-align: right;\">\n",
       "      <th></th>\n",
       "      <th>image_name</th>\n",
       "      <th>label</th>\n",
       "      <th>fnames</th>\n",
       "    </tr>\n",
       "  </thead>\n",
       "  <tbody>\n",
       "    <tr>\n",
       "      <th>0</th>\n",
       "      <td>/mnt/8TB/FAS_2023/FILTER_SILICON_MASK_DETECTIO...</td>\n",
       "      <td>1</td>\n",
       "      <td>81cd1c76-8bef-4162-a559-bbe6115c6018.jpg</td>\n",
       "    </tr>\n",
       "    <tr>\n",
       "      <th>1</th>\n",
       "      <td>/mnt/8TB/FAS_2023/FILTER_SILICON_MASK_DETECTIO...</td>\n",
       "      <td>1</td>\n",
       "      <td>frameNr_121_Vivi A15_0001e96803--627550475d110...</td>\n",
       "    </tr>\n",
       "    <tr>\n",
       "      <th>2</th>\n",
       "      <td>/mnt/8TB/FAS_2023/FILTER_SILICON_MASK_DETECTIO...</td>\n",
       "      <td>1</td>\n",
       "      <td>2019_09_14_8fbc026946845b47d01f06b2ae01e461__f...</td>\n",
       "    </tr>\n",
       "    <tr>\n",
       "      <th>3</th>\n",
       "      <td>/mnt/8TB/FAS_2023/FILTER_SILICON_MASK_DETECTIO...</td>\n",
       "      <td>1</td>\n",
       "      <td>vid_6953_frameNr_113_Xiaomo Redmi Note 8 Pro_0...</td>\n",
       "    </tr>\n",
       "    <tr>\n",
       "      <th>4</th>\n",
       "      <td>/mnt/8TB/FAS_2023/FILTER_SILICON_MASK_DETECTIO...</td>\n",
       "      <td>1</td>\n",
       "      <td>f4f53d90-8f20-45e2-9abc-5d570d410359.jpg</td>\n",
       "    </tr>\n",
       "    <tr>\n",
       "      <th>...</th>\n",
       "      <td>...</td>\n",
       "      <td>...</td>\n",
       "      <td>...</td>\n",
       "    </tr>\n",
       "    <tr>\n",
       "      <th>40782</th>\n",
       "      <td>/mnt/8TB/FAS_2023/FILTER_SILICON_MASK_DETECTIO...</td>\n",
       "      <td>1</td>\n",
       "      <td>frameNr_129_iPhone 11_0001e96803--625581b83aa4...</td>\n",
       "    </tr>\n",
       "    <tr>\n",
       "      <th>40783</th>\n",
       "      <td>/mnt/8TB/FAS_2023/FILTER_SILICON_MASK_DETECTIO...</td>\n",
       "      <td>1</td>\n",
       "      <td>frameNr_105_iphone 7plus_0001e96803--624c4a0b8...</td>\n",
       "    </tr>\n",
       "    <tr>\n",
       "      <th>40784</th>\n",
       "      <td>/mnt/8TB/FAS_2023/FILTER_SILICON_MASK_DETECTIO...</td>\n",
       "      <td>1</td>\n",
       "      <td>vid_674_frameNr_129_Samsung galaxy a32_0001e96...</td>\n",
       "    </tr>\n",
       "    <tr>\n",
       "      <th>40785</th>\n",
       "      <td>/mnt/8TB/FAS_2023/FILTER_SILICON_MASK_DETECTIO...</td>\n",
       "      <td>1</td>\n",
       "      <td>c84ca047-72c5-4866-a501-ed1715ada1d9.jpg</td>\n",
       "    </tr>\n",
       "    <tr>\n",
       "      <th>40786</th>\n",
       "      <td>/mnt/8TB/FAS_2023/FILTER_SILICON_MASK_DETECTIO...</td>\n",
       "      <td>1</td>\n",
       "      <td>real_1320_01.png</td>\n",
       "    </tr>\n",
       "  </tbody>\n",
       "</table>\n",
       "<p>40787 rows × 3 columns</p>\n",
       "</div>"
      ],
      "text/plain": [
       "                                              image_name  label  \\\n",
       "0      /mnt/8TB/FAS_2023/FILTER_SILICON_MASK_DETECTIO...      1   \n",
       "1      /mnt/8TB/FAS_2023/FILTER_SILICON_MASK_DETECTIO...      1   \n",
       "2      /mnt/8TB/FAS_2023/FILTER_SILICON_MASK_DETECTIO...      1   \n",
       "3      /mnt/8TB/FAS_2023/FILTER_SILICON_MASK_DETECTIO...      1   \n",
       "4      /mnt/8TB/FAS_2023/FILTER_SILICON_MASK_DETECTIO...      1   \n",
       "...                                                  ...    ...   \n",
       "40782  /mnt/8TB/FAS_2023/FILTER_SILICON_MASK_DETECTIO...      1   \n",
       "40783  /mnt/8TB/FAS_2023/FILTER_SILICON_MASK_DETECTIO...      1   \n",
       "40784  /mnt/8TB/FAS_2023/FILTER_SILICON_MASK_DETECTIO...      1   \n",
       "40785  /mnt/8TB/FAS_2023/FILTER_SILICON_MASK_DETECTIO...      1   \n",
       "40786  /mnt/8TB/FAS_2023/FILTER_SILICON_MASK_DETECTIO...      1   \n",
       "\n",
       "                                                  fnames  \n",
       "0               81cd1c76-8bef-4162-a559-bbe6115c6018.jpg  \n",
       "1      frameNr_121_Vivi A15_0001e96803--627550475d110...  \n",
       "2      2019_09_14_8fbc026946845b47d01f06b2ae01e461__f...  \n",
       "3      vid_6953_frameNr_113_Xiaomo Redmi Note 8 Pro_0...  \n",
       "4               f4f53d90-8f20-45e2-9abc-5d570d410359.jpg  \n",
       "...                                                  ...  \n",
       "40782  frameNr_129_iPhone 11_0001e96803--625581b83aa4...  \n",
       "40783  frameNr_105_iphone 7plus_0001e96803--624c4a0b8...  \n",
       "40784  vid_674_frameNr_129_Samsung galaxy a32_0001e96...  \n",
       "40785           c84ca047-72c5-4866-a501-ed1715ada1d9.jpg  \n",
       "40786                                   real_1320_01.png  \n",
       "\n",
       "[40787 rows x 3 columns]"
      ]
     },
     "execution_count": 128,
     "metadata": {},
     "output_type": "execute_result"
    }
   ],
   "source": [
    "import os\n",
    "import pandas as pd\n",
    "from tqdm import tqdm\n"
   ]
  },
  {
   "cell_type": "markdown",
   "id": "fd6a954f",
   "metadata": {},
   "source": [
    "## Parsing mfkin csvs"
   ]
  },
  {
   "cell_type": "code",
   "execution_count": 132,
   "id": "e305a12a",
   "metadata": {},
   "outputs": [
    {
     "name": "stderr",
     "output_type": "stream",
     "text": [
      "100%|██████████| 120818/120818 [05:42<00:00, 353.20it/s]\n",
      "100%|██████████| 25802/25802 [01:11<00:00, 361.66it/s]\n"
     ]
    }
   ],
   "source": [
    "tp = 'train'\n",
    "train_csv = f'datasets/{tp}.csv'\n",
    "df = pd.read_csv(train_csv)\n",
    "df['fnames'] = df['image_name'].apply(lambda x: os.path.basename(x))\n",
    "df = df.drop_duplicates(subset=['fnames'], ignore_index=True)\n",
    "dest_paths = []\n",
    "dest_labels = []\n",
    "source_dir = \"/mnt/8TB/ml_projects_yeldar/PATCHNET_DATASET\"\n",
    "# for tp in ['train', 'test', 'val']:\n",
    "for cp in ['live', 'mask']:\n",
    "    dirr = f\"{source_dir}/{tp}/{cp}\"\n",
    "    img_names = os.listdir(dirr)\n",
    "    for i in tqdm(range(len(img_names))):\n",
    "        name = img_names[i]\n",
    "        found = df.index[df['fnames'] == name].tolist()\n",
    "        try:\n",
    "            if found:\n",
    "                dest_paths.append(os.path.join(dirr, name))\n",
    "                dest_labels.append(int(df['label'].iloc[found[0]]))\n",
    "        except:\n",
    "            print(found[0])\n",
    "df_dest = pd.DataFrame({\"image_name\":dest_paths, \"label\": dest_labels})\n",
    "df_dest.to_csv(f'{tp}.csv', index=False)"
   ]
  },
  {
   "cell_type": "code",
   "execution_count": 140,
   "id": "860c810d",
   "metadata": {},
   "outputs": [
    {
     "name": "stderr",
     "output_type": "stream",
     "text": [
      "100%|██████████| 40601/40601 [00:45<00:00, 886.10it/s]\n",
      "100%|██████████| 1078/1078 [00:01<00:00, 914.35it/s]\n"
     ]
    }
   ],
   "source": [
    "tp = 'test'\n",
    "train_csv = f'datasets/{tp}.csv'\n",
    "df = pd.read_csv(train_csv)\n",
    "df['fnames'] = df['image_name_y'].apply(lambda x: os.path.basename(x))\n",
    "df = df.drop_duplicates(subset=['fnames'], ignore_index=True)\n",
    "dest_paths = []\n",
    "dest_labels = []\n",
    "source_dir = \"/mnt/8TB/ml_projects_yeldar/PATCHNET_DATASET\"\n",
    "# for tp in ['train', 'test', 'val']:\n",
    "for cp in ['live', 'mask']:\n",
    "    dirr = f\"{source_dir}/{tp}/{cp}\"\n",
    "    img_names = os.listdir(dirr)\n",
    "    for i in tqdm(range(len(img_names))):\n",
    "        name = img_names[i]\n",
    "        found = df.index[df['fnames'] == name].tolist()\n",
    "        try:\n",
    "            if found:\n",
    "                dest_paths.append(os.path.join(dirr, name))\n",
    "                dest_labels.append(int(df['label_y'].iloc[found[0]]))\n",
    "        except:\n",
    "            print(found[0])"
   ]
  },
  {
   "cell_type": "code",
   "execution_count": 147,
   "id": "85482721",
   "metadata": {},
   "outputs": [],
   "source": [
    "df_dest = pd.DataFrame({\"image_name\":dest_paths, \"label\": dest_labels})\n",
    "df_dest.to_csv(f'{tp}.csv', index=False)"
   ]
  },
  {
   "cell_type": "code",
   "execution_count": 11,
   "id": "26eae465",
   "metadata": {},
   "outputs": [],
   "source": [
    "import pandas as pd"
   ]
  },
  {
   "cell_type": "code",
   "execution_count": 12,
   "id": "552bfee8",
   "metadata": {},
   "outputs": [
    {
     "data": {
      "text/html": [
       "<div>\n",
       "<style scoped>\n",
       "    .dataframe tbody tr th:only-of-type {\n",
       "        vertical-align: middle;\n",
       "    }\n",
       "\n",
       "    .dataframe tbody tr th {\n",
       "        vertical-align: top;\n",
       "    }\n",
       "\n",
       "    .dataframe thead th {\n",
       "        text-align: right;\n",
       "    }\n",
       "</style>\n",
       "<table border=\"1\" class=\"dataframe\">\n",
       "  <thead>\n",
       "    <tr style=\"text-align: right;\">\n",
       "      <th></th>\n",
       "      <th>image_name</th>\n",
       "      <th>label</th>\n",
       "    </tr>\n",
       "  </thead>\n",
       "  <tbody>\n",
       "    <tr>\n",
       "      <th>0</th>\n",
       "      <td>/mnt/8TB/ml_projects_yeldar/PATCHNET_DATASET/t...</td>\n",
       "      <td>1</td>\n",
       "    </tr>\n",
       "    <tr>\n",
       "      <th>1</th>\n",
       "      <td>/mnt/8TB/ml_projects_yeldar/PATCHNET_DATASET/t...</td>\n",
       "      <td>1</td>\n",
       "    </tr>\n",
       "    <tr>\n",
       "      <th>2</th>\n",
       "      <td>/mnt/8TB/ml_projects_yeldar/PATCHNET_DATASET/t...</td>\n",
       "      <td>1</td>\n",
       "    </tr>\n",
       "    <tr>\n",
       "      <th>3</th>\n",
       "      <td>/mnt/8TB/ml_projects_yeldar/PATCHNET_DATASET/t...</td>\n",
       "      <td>1</td>\n",
       "    </tr>\n",
       "    <tr>\n",
       "      <th>4</th>\n",
       "      <td>/mnt/8TB/ml_projects_yeldar/PATCHNET_DATASET/t...</td>\n",
       "      <td>1</td>\n",
       "    </tr>\n",
       "    <tr>\n",
       "      <th>...</th>\n",
       "      <td>...</td>\n",
       "      <td>...</td>\n",
       "    </tr>\n",
       "    <tr>\n",
       "      <th>34788</th>\n",
       "      <td>/mnt/8TB/ml_projects_yeldar/PATCHNET_DATASET/t...</td>\n",
       "      <td>0</td>\n",
       "    </tr>\n",
       "    <tr>\n",
       "      <th>34789</th>\n",
       "      <td>/mnt/8TB/ml_projects_yeldar/PATCHNET_DATASET/t...</td>\n",
       "      <td>0</td>\n",
       "    </tr>\n",
       "    <tr>\n",
       "      <th>34790</th>\n",
       "      <td>/mnt/8TB/ml_projects_yeldar/PATCHNET_DATASET/t...</td>\n",
       "      <td>0</td>\n",
       "    </tr>\n",
       "    <tr>\n",
       "      <th>34791</th>\n",
       "      <td>/mnt/8TB/ml_projects_yeldar/PATCHNET_DATASET/t...</td>\n",
       "      <td>0</td>\n",
       "    </tr>\n",
       "    <tr>\n",
       "      <th>34792</th>\n",
       "      <td>/mnt/8TB/ml_projects_yeldar/PATCHNET_DATASET/t...</td>\n",
       "      <td>0</td>\n",
       "    </tr>\n",
       "  </tbody>\n",
       "</table>\n",
       "<p>34793 rows × 2 columns</p>\n",
       "</div>"
      ],
      "text/plain": [
       "                                              image_name  label\n",
       "0      /mnt/8TB/ml_projects_yeldar/PATCHNET_DATASET/t...      1\n",
       "1      /mnt/8TB/ml_projects_yeldar/PATCHNET_DATASET/t...      1\n",
       "2      /mnt/8TB/ml_projects_yeldar/PATCHNET_DATASET/t...      1\n",
       "3      /mnt/8TB/ml_projects_yeldar/PATCHNET_DATASET/t...      1\n",
       "4      /mnt/8TB/ml_projects_yeldar/PATCHNET_DATASET/t...      1\n",
       "...                                                  ...    ...\n",
       "34788  /mnt/8TB/ml_projects_yeldar/PATCHNET_DATASET/t...      0\n",
       "34789  /mnt/8TB/ml_projects_yeldar/PATCHNET_DATASET/t...      0\n",
       "34790  /mnt/8TB/ml_projects_yeldar/PATCHNET_DATASET/t...      0\n",
       "34791  /mnt/8TB/ml_projects_yeldar/PATCHNET_DATASET/t...      0\n",
       "34792  /mnt/8TB/ml_projects_yeldar/PATCHNET_DATASET/t...      0\n",
       "\n",
       "[34793 rows x 2 columns]"
      ]
     },
     "execution_count": 12,
     "metadata": {},
     "output_type": "execute_result"
    }
   ],
   "source": [
    "df = pd.read_csv('test.csv')\n",
    "df"
   ]
  },
  {
   "cell_type": "code",
   "execution_count": null,
   "id": "2cfb7529",
   "metadata": {},
   "outputs": [],
   "source": []
  }
 ],
 "metadata": {
  "kernelspec": {
   "display_name": "Python 3",
   "language": "python",
   "name": "python3"
  },
  "language_info": {
   "codemirror_mode": {
    "name": "ipython",
    "version": 3
   },
   "file_extension": ".py",
   "mimetype": "text/x-python",
   "name": "python",
   "nbconvert_exporter": "python",
   "pygments_lexer": "ipython3",
   "version": "3.8.18"
  }
 },
 "nbformat": 4,
 "nbformat_minor": 5
}
