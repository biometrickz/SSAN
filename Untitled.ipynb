{
 "cells": [
  {
   "cell_type": "markdown",
   "metadata": {},
   "source": [
    "# Datasets preparation. 1. Creating labels"
   ]
  },
  {
   "cell_type": "code",
   "execution_count": null,
   "id": "6680d6e1-d4a3-45da-b138-252c1803b830",
   "metadata": {},
   "outputs": [],
   "source": [
    "import os\n",
    "import pandas as pd\n"
   ]
  },
  {
   "cell_type": "code",
   "execution_count": null,
   "id": "b50f6d12-156a-44c7-b2a7-7664e393588d",
   "metadata": {},
   "outputs": [],
   "source": [
    "def generate_labels_csv(dirr):\n",
    "    train_files = os.listdir(dirr)\n",
    "    df = pd.DataFrame(columns=[\"label\", \"fname\"])\n",
    "    df[\"fname\"] = train_files\n",
    "    if 'spoof' in dirr:\n",
    "        df[\"label\"] = 1\n",
    "    else:\n",
    "        df[\"label\"] = 0\n",
    "    return df"
   ]
  },
  {
   "cell_type": "code",
   "execution_count": null,
   "id": "014309c0-9800-42e5-849b-5e5ce36af310",
   "metadata": {},
   "outputs": [],
   "source": [
    "n_rows = 0\n",
    "for ds in ['0.0_padded_liveness_dataset', 'insigtface_cropped_fas_faces', 'JOINED_DATASET/JOINED_DATASET']:\n",
    "    for tp in ['train', 'test', 'val']:\n",
    "        tmp = tp\n",
    "        if (tp == 'train'):\n",
    "            n_rows = 50000\n",
    "        else:\n",
    "            n_rows = 5000\n",
    "        if (ds =='insigtface_cropped_fas_faces'):\n",
    "            if (tp == 'train'):\n",
    "                for l in ['live', 'spoof']:\n",
    "                    dirr1 = f\"/media/user/6TB1/{ds}/{l}\"\n",
    "                    df = generate_labels_csv(dirr1)[:n_rows]\n",
    "                    df.to_csv(os.path.join(dirr1, f\"{tp}_list.csv\"), index=False)\n",
    "                    print(ds, tp, len(df))\n",
    "            continue\n",
    "        elif (ds =='0.0_padded_liveness_dataset'):\n",
    "            if (tp != 'test'):\n",
    "                tp = tp + '/1_300x300'\n",
    "        for l in ['live', 'spoof']:\n",
    "            dirr1 = f\"/media/user/6TB1/{ds}/{tp}/{l}\"\n",
    "            # dirr2 = \"/home/yeldar/Documents/Liveness/datasets/sample_dataset/Custom/insight/train/spoof\"\n",
    "            # df = pd.concat([generate_labels_csv(dirr1), generate_labels_csv(dirr2)])\n",
    "            # if \n",
    "            df = generate_labels_csv(dirr1)[:n_rows]\n",
    "            df.to_csv(os.path.join(dirr1, f\"{tmp}_list.csv\"), index=False)\n",
    "            print(ds, tp, len(df))"
   ]
  },
  {
   "cell_type": "code",
   "execution_count": null,
   "metadata": {},
   "outputs": [],
   "source": [
    "import pandas as pd\n",
    "info_list = '/home/yeldar/Documents/Liveness/datasets/sample_dataset/Custom/insight/train/live/train_list.csv'\n",
    "df = pd.read_csv(info_list, delimiter=\",\", header=None).drop([0], axis=0)"
   ]
  },
  {
   "cell_type": "code",
   "execution_count": null,
   "metadata": {},
   "outputs": [],
   "source": [
    "df"
   ]
  },
  {
   "cell_type": "code",
   "execution_count": null,
   "metadata": {},
   "outputs": [],
   "source": []
  },
  {
   "cell_type": "markdown",
   "metadata": {},
   "source": [
    "## 2. Merging live and spoof images into one folder"
   ]
  },
  {
   "cell_type": "code",
   "execution_count": null,
   "metadata": {},
   "outputs": [],
   "source": [
    "def merge_folders(dir1, dir2, dest):\n",
    "    for fl in os.listdir(dir1):\n",
    "        cur_p = os.path.join(dir1, fl)\n",
    "        dst_p = os.path.join(dest, fl)\n",
    "        os.rename(cur_p, dst_p)\n",
    "    for fl2 in os.listdir(dir2):\n",
    "        cur_p = os.path.join(dir2, fl2)\n",
    "        dst_p = os.path.join(dest, fl2)\n",
    "        os.rename(cur_p, dst_p)\n"
   ]
  },
  {
   "cell_type": "code",
   "execution_count": null,
   "metadata": {},
   "outputs": [],
   "source": [
    "dirr1 = \"/home/yeldar/Documents/adds-depthnet/padded2/test/live\"\n",
    "dirr2 = \"/home/yeldar/Documents/adds-depthnet/padded2/test/spoof\"\n",
    "dest = \"/home/yeldar/Documents/adds-depthnet/padded2/Test_files\""
   ]
  },
  {
   "cell_type": "code",
   "execution_count": null,
   "metadata": {},
   "outputs": [],
   "source": [
    "merge_folders(dirr1, dirr2, dest)"
   ]
  },
  {
   "cell_type": "code",
   "execution_count": null,
   "metadata": {},
   "outputs": [],
   "source": [
    "for epoch in range(1, 100):\n",
    "    epoch_test = 10\n",
    "    if epoch % epoch_test == epoch_test-1:\n",
    "        print(epoch)"
   ]
  },
  {
   "cell_type": "code",
   "execution_count": null,
   "metadata": {},
   "outputs": [],
   "source": [
    "import cv2"
   ]
  },
  {
   "cell_type": "code",
   "execution_count": null,
   "metadata": {},
   "outputs": [],
   "source": [
    "img = cv2.imread(\"d1.jpeg\")\n",
    "gray = cv2.cvtColor(img, cv2.COLOR_BGR2GRAY)\n"
   ]
  },
  {
   "cell_type": "code",
   "execution_count": null,
   "metadata": {},
   "outputs": [],
   "source": [
    "cv2.imshow('Original image',img)\n",
    "cv2.imshow('Gray image', gray)\n",
    "cv2.waitKey(0)\n",
    "cv2.destroyAllWindows()"
   ]
  },
  {
   "cell_type": "code",
   "execution_count": null,
   "metadata": {},
   "outputs": [],
   "source": [
    "img.shape"
   ]
  },
  {
   "cell_type": "code",
   "execution_count": null,
   "metadata": {},
   "outputs": [],
   "source": [
    "# Trying inference on one image"
   ]
  },
  {
   "cell_type": "code",
   "execution_count": 1,
   "metadata": {},
   "outputs": [],
   "source": [
    "import torch\n",
    "import torch.nn as nn\n",
    "import os\n",
    "from networks import get_model\n",
    "from datasets import data_merge\n",
    "from optimizers import get_optimizer\n",
    "from torch.utils.data import Dataset, DataLoader\n",
    "from transformers import *\n",
    "from utils import *\n",
    "from configs import parse_args\n",
    "import time\n",
    "import numpy as np\n",
    "import random\n",
    "from loss import *\n",
    "\n",
    "torch.manual_seed(16)\n",
    "np.random.seed(16)\n",
    "random.seed(16)\n",
    "# print(torch.__version__)\n",
    "# print(torch.cuda.version())\n",
    "%load_ext autoreload\n",
    "%autoreload 2"
   ]
  },
  {
   "cell_type": "code",
   "execution_count": 2,
   "id": "a7adb905",
   "metadata": {},
   "outputs": [],
   "source": [
    "def test(model, test_loader, score_root_path, epoch, name=\"\"):\n",
    "    model.eval()\n",
    "    with torch.no_grad():\n",
    "        start_time = time.time()\n",
    "        scores = []\n",
    "        labels = []\n",
    "        for i, sample_batched in enumerate(test_loader):\n",
    "            # if (i % 10==0):\n",
    "            #     print(i)\n",
    "            # if (i >100):\n",
    "            #     break\n",
    "            image_x, label, map_x = sample_batched[\"image_x\"].cuda(), sample_batched[\"label\"].cuda(), sample_batched[\"map_x\"].cuda()\n",
    "            score_norm = None\n",
    "            pred_map, fea_x1_x1, fea_x1_x2, _ = model(image_x, image_x)\n",
    "            score_norm = torch.sum(pred_map, dim=(1, 2))/(32*32)\n",
    "            # for sc in score_norm.tolist():\n",
    "            print(score_norm, label)\n",
    "            scores.append(score_norm)\n",
    "            # for sc in label.tolist():\n",
    "            labels.append(label) \n",
    "                       \n",
    "        test_ACC, fpr, FRR, HTER, auc_test, test_err = performances_val2(scores, labels)\n",
    "\n",
    "        print(\"## {} score:\".format(name))\n",
    "        print(\"epoch:{:d}, test:  val_ACC={:.4f}, HTER={:.4f}, AUC={:.4f}, val_err={:.4f}, ACC={:.4f}\".format(epoch+1, test_ACC, HTER, auc_test, test_err, test_ACC))\n",
    "        print(\"test phase cost {:.4f}s\".format(time.time()-start_time))\n",
    "    return HTER, auc_test"
   ]
  },
  {
   "cell_type": "code",
   "execution_count": 3,
   "id": "ef2eb590",
   "metadata": {},
   "outputs": [],
   "source": [
    "model = get_model(\"SSAN_M\", 100).cuda()\n",
    "checkpoint = torch.load(\"./results/10300K/model/SSAN_M_pD123toD12_best.pth\")\n",
    "model.load_state_dict(checkpoint['state_dict'])\n",
    "# model.eval()\n",
    "\n",
    "os.environ[\"CUDA_VISIBLE_DEVICES\"] = \"0\"\n",
    "data_dir = \"/media/user/6TB1/\"\n",
    "data_bank = data_merge(data_dir)"
   ]
  },
  {
   "cell_type": "code",
   "execution_count": 4,
   "id": "d812f0be",
   "metadata": {},
   "outputs": [
    {
     "name": "stdout",
     "output_type": "stream",
     "text": [
      "Loading PADDED, number: 1000\n",
      "Loading JOINED, number: 1000\n",
      "Total number: 2000\n"
     ]
    }
   ],
   "source": [
    "test_data_dic = data_bank.get_datasets(train=False, protocol=\"D123toD12\", img_size=256, transform=transformer_custom())"
   ]
  },
  {
   "cell_type": "code",
   "execution_count": 5,
   "id": "e75ffe38",
   "metadata": {},
   "outputs": [],
   "source": [
    "test_loader = DataLoader(test_data_dic, batch_size=1, shuffle=False, num_workers=8)"
   ]
  },
  {
   "cell_type": "code",
   "execution_count": 6,
   "id": "8137643e",
   "metadata": {},
   "outputs": [
    {
     "data": {
      "text/plain": [
       "2000"
      ]
     },
     "execution_count": 6,
     "metadata": {},
     "output_type": "execute_result"
    }
   ],
   "source": [
    "len(test_loader)"
   ]
  },
  {
   "cell_type": "code",
   "execution_count": 7,
   "id": "666d86bc",
   "metadata": {},
   "outputs": [],
   "source": [
    "model.eval()\n",
    "# image_x, label, map_x = None, None, None\n",
    "score_root_path = \"./results/10300K/score/epoch_1/\""
   ]
  },
  {
   "cell_type": "code",
   "execution_count": null,
   "id": "043996d3",
   "metadata": {},
   "outputs": [],
   "source": [
    "model.eval()\n",
    "with torch.no_grad():\n",
    "    start_time = time.time()\n",
    "    scores = []\n",
    "    labels = []\n",
    "    for i, sample_batched in enumerate(test_loader):\n",
    "        # if (i % 10==0):\n",
    "        #     print(i)\n",
    "        # if (i >100):\n",
    "        #     break\n",
    "        image_x, label, map_x = sample_batched[\"image_x\"].cuda(), sample_batched[\"label\"].cuda(), sample_batched[\"map_x\"].cuda()\n",
    "        score_norm = None\n",
    "        pred_map, fea_x1_x1, fea_x1_x2, _ = model(image_x, image_x)\n",
    "        score_norm = torch.sum(pred_map, dim=(1, 2))/(32*32)\n",
    "        # for sc in score_norm.tolist():\n",
    "        print(score_norm, label)\n",
    "        scores.append(score_norm)\n",
    "        # for sc in label.tolist():\n",
    "        labels.append(label) \n",
    "                    \n",
    "    test_ACC, fpr, FRR, HTER, auc_test, test_err = performances_val2(scores, labels)\n",
    "    print(\"epoch:{:d}, test:  val_ACC={:.4f}, HTER={:.4f}, AUC={:.4f}, val_err={:.4f}, ACC={:.4f}\".format(epoch+1, test_ACC, HTER, auc_test, test_err, test_ACC))\n"
   ]
  },
  {
   "cell_type": "code",
   "execution_count": 9,
   "id": "df29f155",
   "metadata": {},
   "outputs": [
    {
     "name": "stdout",
     "output_type": "stream",
     "text": [
      "0\n",
      "tensor([0.], device='cuda:0') tensor([[0]], device='cuda:0')\n",
      "tensor([0.], device='cuda:0') tensor([[0]], device='cuda:0')\n",
      "tensor([0.], device='cuda:0') tensor([[0]], device='cuda:0')\n",
      "tensor([0.], device='cuda:0') tensor([[0]], device='cuda:0')\n",
      "tensor([0.], device='cuda:0') tensor([[0]], device='cuda:0')\n",
      "tensor([0.], device='cuda:0') tensor([[0]], device='cuda:0')\n",
      "tensor([0.], device='cuda:0') tensor([[0]], device='cuda:0')\n",
      "tensor([0.], device='cuda:0') tensor([[0]], device='cuda:0')\n",
      "tensor([0.], device='cuda:0') tensor([[0]], device='cuda:0')\n",
      "tensor([0.], device='cuda:0') tensor([[0]], device='cuda:0')\n",
      "10\n",
      "tensor([0.], device='cuda:0') tensor([[0]], device='cuda:0')\n",
      "tensor([0.], device='cuda:0') tensor([[0]], device='cuda:0')\n",
      "tensor([0.], device='cuda:0') tensor([[0]], device='cuda:0')\n",
      "tensor([0.], device='cuda:0') tensor([[0]], device='cuda:0')\n",
      "tensor([0.], device='cuda:0') tensor([[0]], device='cuda:0')\n",
      "tensor([0.], device='cuda:0') tensor([[0]], device='cuda:0')\n",
      "tensor([0.], device='cuda:0') tensor([[0]], device='cuda:0')\n",
      "tensor([0.], device='cuda:0') tensor([[0]], device='cuda:0')\n",
      "tensor([0.], device='cuda:0') tensor([[0]], device='cuda:0')\n",
      "tensor([0.], device='cuda:0') tensor([[0]], device='cuda:0')\n",
      "20\n",
      "tensor([0.], device='cuda:0') tensor([[0]], device='cuda:0')\n",
      "tensor([0.], device='cuda:0') tensor([[0]], device='cuda:0')\n",
      "tensor([0.], device='cuda:0') tensor([[0]], device='cuda:0')\n",
      "tensor([0.], device='cuda:0') tensor([[0]], device='cuda:0')\n",
      "tensor([0.], device='cuda:0') tensor([[0]], device='cuda:0')\n",
      "tensor([0.], device='cuda:0') tensor([[0]], device='cuda:0')\n",
      "tensor([0.], device='cuda:0') tensor([[0]], device='cuda:0')\n",
      "tensor([0.], device='cuda:0') tensor([[0]], device='cuda:0')\n",
      "tensor([0.], device='cuda:0') tensor([[0]], device='cuda:0')\n",
      "tensor([0.], device='cuda:0') tensor([[0]], device='cuda:0')\n",
      "30\n",
      "tensor([0.], device='cuda:0') tensor([[0]], device='cuda:0')\n",
      "tensor([0.], device='cuda:0') tensor([[0]], device='cuda:0')\n",
      "tensor([0.], device='cuda:0') tensor([[0]], device='cuda:0')\n",
      "tensor([0.], device='cuda:0') tensor([[0]], device='cuda:0')\n",
      "tensor([0.], device='cuda:0') tensor([[0]], device='cuda:0')\n",
      "tensor([0.], device='cuda:0') tensor([[0]], device='cuda:0')\n",
      "tensor([0.], device='cuda:0') tensor([[0]], device='cuda:0')\n",
      "tensor([0.], device='cuda:0') tensor([[0]], device='cuda:0')\n",
      "tensor([0.], device='cuda:0') tensor([[0]], device='cuda:0')\n",
      "tensor([0.], device='cuda:0') tensor([[0]], device='cuda:0')\n",
      "40\n",
      "tensor([0.], device='cuda:0') tensor([[0]], device='cuda:0')\n",
      "tensor([0.], device='cuda:0') tensor([[0]], device='cuda:0')\n",
      "tensor([0.], device='cuda:0') tensor([[0]], device='cuda:0')\n",
      "tensor([0.], device='cuda:0') tensor([[0]], device='cuda:0')\n",
      "tensor([0.], device='cuda:0') tensor([[0]], device='cuda:0')\n",
      "tensor([0.], device='cuda:0') tensor([[0]], device='cuda:0')\n",
      "tensor([0.], device='cuda:0') tensor([[0]], device='cuda:0')\n",
      "tensor([0.], device='cuda:0') tensor([[0]], device='cuda:0')\n",
      "tensor([0.], device='cuda:0') tensor([[0]], device='cuda:0')\n",
      "tensor([0.], device='cuda:0') tensor([[0]], device='cuda:0')\n",
      "50\n",
      "tensor([0.], device='cuda:0') tensor([[0]], device='cuda:0')\n",
      "tensor([0.], device='cuda:0') tensor([[0]], device='cuda:0')\n",
      "tensor([0.], device='cuda:0') tensor([[0]], device='cuda:0')\n",
      "tensor([0.], device='cuda:0') tensor([[0]], device='cuda:0')\n",
      "tensor([0.], device='cuda:0') tensor([[0]], device='cuda:0')\n",
      "tensor([0.], device='cuda:0') tensor([[0]], device='cuda:0')\n",
      "tensor([0.], device='cuda:0') tensor([[0]], device='cuda:0')\n",
      "tensor([0.], device='cuda:0') tensor([[0]], device='cuda:0')\n",
      "tensor([0.], device='cuda:0') tensor([[0]], device='cuda:0')\n",
      "tensor([0.], device='cuda:0') tensor([[0]], device='cuda:0')\n",
      "60\n",
      "tensor([0.], device='cuda:0') tensor([[0]], device='cuda:0')\n",
      "tensor([0.], device='cuda:0') tensor([[0]], device='cuda:0')\n",
      "tensor([0.], device='cuda:0') tensor([[0]], device='cuda:0')\n",
      "tensor([0.], device='cuda:0') tensor([[0]], device='cuda:0')\n",
      "tensor([0.], device='cuda:0') tensor([[0]], device='cuda:0')\n",
      "tensor([0.], device='cuda:0') tensor([[0]], device='cuda:0')\n",
      "tensor([0.], device='cuda:0') tensor([[0]], device='cuda:0')\n",
      "tensor([0.], device='cuda:0') tensor([[0]], device='cuda:0')\n",
      "tensor([0.], device='cuda:0') tensor([[0]], device='cuda:0')\n",
      "tensor([0.], device='cuda:0') tensor([[0]], device='cuda:0')\n",
      "70\n",
      "tensor([0.], device='cuda:0') tensor([[0]], device='cuda:0')\n",
      "tensor([0.], device='cuda:0') tensor([[0]], device='cuda:0')\n",
      "tensor([0.], device='cuda:0') tensor([[0]], device='cuda:0')\n",
      "tensor([0.], device='cuda:0') tensor([[0]], device='cuda:0')\n",
      "tensor([0.], device='cuda:0') tensor([[0]], device='cuda:0')\n",
      "tensor([0.], device='cuda:0') tensor([[0]], device='cuda:0')\n",
      "tensor([0.], device='cuda:0') tensor([[0]], device='cuda:0')\n",
      "tensor([0.], device='cuda:0') tensor([[0]], device='cuda:0')\n",
      "tensor([0.], device='cuda:0') tensor([[0]], device='cuda:0')\n",
      "tensor([0.], device='cuda:0') tensor([[0]], device='cuda:0')\n",
      "80\n",
      "tensor([0.], device='cuda:0') tensor([[0]], device='cuda:0')\n",
      "tensor([0.], device='cuda:0') tensor([[0]], device='cuda:0')\n",
      "tensor([0.], device='cuda:0') tensor([[0]], device='cuda:0')\n",
      "tensor([0.], device='cuda:0') tensor([[0]], device='cuda:0')\n",
      "tensor([0.], device='cuda:0') tensor([[0]], device='cuda:0')\n",
      "tensor([0.], device='cuda:0') tensor([[0]], device='cuda:0')\n",
      "tensor([0.], device='cuda:0') tensor([[0]], device='cuda:0')\n",
      "tensor([0.], device='cuda:0') tensor([[0]], device='cuda:0')\n",
      "tensor([0.], device='cuda:0') tensor([[0]], device='cuda:0')\n",
      "tensor([0.], device='cuda:0') tensor([[0]], device='cuda:0')\n",
      "90\n",
      "tensor([0.], device='cuda:0') tensor([[0]], device='cuda:0')\n",
      "tensor([0.], device='cuda:0') tensor([[0]], device='cuda:0')\n",
      "tensor([0.], device='cuda:0') tensor([[0]], device='cuda:0')\n",
      "tensor([0.], device='cuda:0') tensor([[0]], device='cuda:0')\n",
      "tensor([0.], device='cuda:0') tensor([[0]], device='cuda:0')\n",
      "tensor([0.], device='cuda:0') tensor([[0]], device='cuda:0')\n",
      "tensor([0.], device='cuda:0') tensor([[0]], device='cuda:0')\n",
      "tensor([0.], device='cuda:0') tensor([[0]], device='cuda:0')\n",
      "tensor([0.], device='cuda:0') tensor([[0]], device='cuda:0')\n",
      "tensor([0.], device='cuda:0') tensor([[0]], device='cuda:0')\n",
      "100\n",
      "tensor([0.], device='cuda:0') tensor([[0]], device='cuda:0')\n"
     ]
    },
    {
     "ename": "TypeError",
     "evalue": "can't convert cuda:0 device type tensor to numpy. Use Tensor.cpu() to copy the tensor to host memory first.",
     "output_type": "error",
     "traceback": [
      "\u001b[0;31m---------------------------------------------------------------------------\u001b[0m",
      "\u001b[0;31mTypeError\u001b[0m                                 Traceback (most recent call last)",
      "\u001b[0;32m/tmp/ipykernel_33735/3832846373.py\u001b[0m in \u001b[0;36m<module>\u001b[0;34m\u001b[0m\n\u001b[0;32m----> 1\u001b[0;31m \u001b[0mHTER\u001b[0m\u001b[0;34m,\u001b[0m \u001b[0mauc_test\u001b[0m \u001b[0;34m=\u001b[0m \u001b[0mtest\u001b[0m\u001b[0;34m(\u001b[0m\u001b[0mmodel\u001b[0m\u001b[0;34m,\u001b[0m \u001b[0mtest_loader\u001b[0m\u001b[0;34m,\u001b[0m \u001b[0mscore_root_path\u001b[0m\u001b[0;34m,\u001b[0m \u001b[0;36m10\u001b[0m\u001b[0;34m,\u001b[0m \u001b[0;34m\"PnJ\"\u001b[0m\u001b[0;34m)\u001b[0m\u001b[0;34m\u001b[0m\u001b[0;34m\u001b[0m\u001b[0m\n\u001b[0m",
      "\u001b[0;32m/tmp/ipykernel_33735/2088258464.py\u001b[0m in \u001b[0;36mtest\u001b[0;34m(model, test_loader, score_root_path, epoch, name)\u001b[0m\n\u001b[1;32m     20\u001b[0m             \u001b[0mlabels\u001b[0m\u001b[0;34m.\u001b[0m\u001b[0mappend\u001b[0m\u001b[0;34m(\u001b[0m\u001b[0mlabel\u001b[0m\u001b[0;34m)\u001b[0m\u001b[0;34m\u001b[0m\u001b[0;34m\u001b[0m\u001b[0m\n\u001b[1;32m     21\u001b[0m \u001b[0;34m\u001b[0m\u001b[0m\n\u001b[0;32m---> 22\u001b[0;31m         \u001b[0mtest_ACC\u001b[0m\u001b[0;34m,\u001b[0m \u001b[0mfpr\u001b[0m\u001b[0;34m,\u001b[0m \u001b[0mFRR\u001b[0m\u001b[0;34m,\u001b[0m \u001b[0mHTER\u001b[0m\u001b[0;34m,\u001b[0m \u001b[0mauc_test\u001b[0m\u001b[0;34m,\u001b[0m \u001b[0mtest_err\u001b[0m \u001b[0;34m=\u001b[0m \u001b[0mperformances_val2\u001b[0m\u001b[0;34m(\u001b[0m\u001b[0mscores\u001b[0m\u001b[0;34m,\u001b[0m \u001b[0mlabels\u001b[0m\u001b[0;34m)\u001b[0m\u001b[0;34m\u001b[0m\u001b[0;34m\u001b[0m\u001b[0m\n\u001b[0m\u001b[1;32m     23\u001b[0m \u001b[0;34m\u001b[0m\u001b[0m\n\u001b[1;32m     24\u001b[0m         \u001b[0mprint\u001b[0m\u001b[0;34m(\u001b[0m\u001b[0;34m\"## {} score:\"\u001b[0m\u001b[0;34m.\u001b[0m\u001b[0mformat\u001b[0m\u001b[0;34m(\u001b[0m\u001b[0mname\u001b[0m\u001b[0;34m)\u001b[0m\u001b[0;34m)\u001b[0m\u001b[0;34m\u001b[0m\u001b[0;34m\u001b[0m\u001b[0m\n",
      "\u001b[0;32m~/ml_projects/Yeldar/SSAN/utils/performance.py\u001b[0m in \u001b[0;36mperformances_val2\u001b[0;34m(val_scores, val_labels)\u001b[0m\n\u001b[1;32m     11\u001b[0m \u001b[0;34m\u001b[0m\u001b[0m\n\u001b[1;32m     12\u001b[0m \u001b[0;32mdef\u001b[0m \u001b[0mperformances_val2\u001b[0m\u001b[0;34m(\u001b[0m\u001b[0mval_scores\u001b[0m\u001b[0;34m,\u001b[0m \u001b[0mval_labels\u001b[0m\u001b[0;34m)\u001b[0m\u001b[0;34m:\u001b[0m\u001b[0;34m\u001b[0m\u001b[0;34m\u001b[0m\u001b[0m\n\u001b[0;32m---> 13\u001b[0;31m     \u001b[0mfpr\u001b[0m\u001b[0;34m,\u001b[0m\u001b[0mtpr\u001b[0m\u001b[0;34m,\u001b[0m\u001b[0mthreshold\u001b[0m \u001b[0;34m=\u001b[0m \u001b[0mroc_curve\u001b[0m\u001b[0;34m(\u001b[0m\u001b[0mval_labels\u001b[0m\u001b[0;34m,\u001b[0m \u001b[0mval_scores\u001b[0m\u001b[0;34m,\u001b[0m \u001b[0mpos_label\u001b[0m\u001b[0;34m=\u001b[0m\u001b[0;36m1\u001b[0m\u001b[0;34m)\u001b[0m\u001b[0;34m\u001b[0m\u001b[0;34m\u001b[0m\u001b[0m\n\u001b[0m\u001b[1;32m     14\u001b[0m     \u001b[0mauc_test\u001b[0m \u001b[0;34m=\u001b[0m \u001b[0mauc\u001b[0m\u001b[0;34m(\u001b[0m\u001b[0mfpr\u001b[0m\u001b[0;34m,\u001b[0m \u001b[0mtpr\u001b[0m\u001b[0;34m)\u001b[0m\u001b[0;34m\u001b[0m\u001b[0;34m\u001b[0m\u001b[0m\n\u001b[1;32m     15\u001b[0m     \u001b[0mval_err\u001b[0m\u001b[0;34m,\u001b[0m \u001b[0mval_threshold\u001b[0m\u001b[0;34m,\u001b[0m \u001b[0mright_index\u001b[0m \u001b[0;34m=\u001b[0m \u001b[0mget_err_threhold\u001b[0m\u001b[0;34m(\u001b[0m\u001b[0mfpr\u001b[0m\u001b[0;34m,\u001b[0m \u001b[0mtpr\u001b[0m\u001b[0;34m,\u001b[0m \u001b[0mthreshold\u001b[0m\u001b[0;34m)\u001b[0m\u001b[0;34m\u001b[0m\u001b[0;34m\u001b[0m\u001b[0m\n",
      "\u001b[0;32m~/.pyenv/versions/3.7.12/lib/python3.7/site-packages/sklearn/metrics/_ranking.py\u001b[0m in \u001b[0;36mroc_curve\u001b[0;34m(y_true, y_score, pos_label, sample_weight, drop_intermediate)\u001b[0m\n\u001b[1;32m    961\u001b[0m     \"\"\"\n\u001b[1;32m    962\u001b[0m     fps, tps, thresholds = _binary_clf_curve(\n\u001b[0;32m--> 963\u001b[0;31m         \u001b[0my_true\u001b[0m\u001b[0;34m,\u001b[0m \u001b[0my_score\u001b[0m\u001b[0;34m,\u001b[0m \u001b[0mpos_label\u001b[0m\u001b[0;34m=\u001b[0m\u001b[0mpos_label\u001b[0m\u001b[0;34m,\u001b[0m \u001b[0msample_weight\u001b[0m\u001b[0;34m=\u001b[0m\u001b[0msample_weight\u001b[0m\u001b[0;34m\u001b[0m\u001b[0;34m\u001b[0m\u001b[0m\n\u001b[0m\u001b[1;32m    964\u001b[0m     )\n\u001b[1;32m    965\u001b[0m \u001b[0;34m\u001b[0m\u001b[0m\n",
      "\u001b[0;32m~/.pyenv/versions/3.7.12/lib/python3.7/site-packages/sklearn/metrics/_ranking.py\u001b[0m in \u001b[0;36m_binary_clf_curve\u001b[0;34m(y_true, y_score, pos_label, sample_weight)\u001b[0m\n\u001b[1;32m    727\u001b[0m     \"\"\"\n\u001b[1;32m    728\u001b[0m     \u001b[0;31m# Check to make sure y_true is valid\u001b[0m\u001b[0;34m\u001b[0m\u001b[0;34m\u001b[0m\u001b[0;34m\u001b[0m\u001b[0m\n\u001b[0;32m--> 729\u001b[0;31m     \u001b[0my_type\u001b[0m \u001b[0;34m=\u001b[0m \u001b[0mtype_of_target\u001b[0m\u001b[0;34m(\u001b[0m\u001b[0my_true\u001b[0m\u001b[0;34m)\u001b[0m\u001b[0;34m\u001b[0m\u001b[0;34m\u001b[0m\u001b[0m\n\u001b[0m\u001b[1;32m    730\u001b[0m     \u001b[0;32mif\u001b[0m \u001b[0;32mnot\u001b[0m \u001b[0;34m(\u001b[0m\u001b[0my_type\u001b[0m \u001b[0;34m==\u001b[0m \u001b[0;34m\"binary\"\u001b[0m \u001b[0;32mor\u001b[0m \u001b[0;34m(\u001b[0m\u001b[0my_type\u001b[0m \u001b[0;34m==\u001b[0m \u001b[0;34m\"multiclass\"\u001b[0m \u001b[0;32mand\u001b[0m \u001b[0mpos_label\u001b[0m \u001b[0;32mis\u001b[0m \u001b[0;32mnot\u001b[0m \u001b[0;32mNone\u001b[0m\u001b[0;34m)\u001b[0m\u001b[0;34m)\u001b[0m\u001b[0;34m:\u001b[0m\u001b[0;34m\u001b[0m\u001b[0;34m\u001b[0m\u001b[0m\n\u001b[1;32m    731\u001b[0m         \u001b[0;32mraise\u001b[0m \u001b[0mValueError\u001b[0m\u001b[0;34m(\u001b[0m\u001b[0;34m\"{0} format is not supported\"\u001b[0m\u001b[0;34m.\u001b[0m\u001b[0mformat\u001b[0m\u001b[0;34m(\u001b[0m\u001b[0my_type\u001b[0m\u001b[0;34m)\u001b[0m\u001b[0;34m)\u001b[0m\u001b[0;34m\u001b[0m\u001b[0;34m\u001b[0m\u001b[0m\n",
      "\u001b[0;32m~/.pyenv/versions/3.7.12/lib/python3.7/site-packages/sklearn/utils/multiclass.py\u001b[0m in \u001b[0;36mtype_of_target\u001b[0;34m(y)\u001b[0m\n\u001b[1;32m    276\u001b[0m         \u001b[0;32mraise\u001b[0m \u001b[0mValueError\u001b[0m\u001b[0;34m(\u001b[0m\u001b[0;34m\"y cannot be class 'SparseSeries' or 'SparseArray'\"\u001b[0m\u001b[0;34m)\u001b[0m\u001b[0;34m\u001b[0m\u001b[0;34m\u001b[0m\u001b[0m\n\u001b[1;32m    277\u001b[0m \u001b[0;34m\u001b[0m\u001b[0m\n\u001b[0;32m--> 278\u001b[0;31m     \u001b[0;32mif\u001b[0m \u001b[0mis_multilabel\u001b[0m\u001b[0;34m(\u001b[0m\u001b[0my\u001b[0m\u001b[0;34m)\u001b[0m\u001b[0;34m:\u001b[0m\u001b[0;34m\u001b[0m\u001b[0;34m\u001b[0m\u001b[0m\n\u001b[0m\u001b[1;32m    279\u001b[0m         \u001b[0;32mreturn\u001b[0m \u001b[0;34m\"multilabel-indicator\"\u001b[0m\u001b[0;34m\u001b[0m\u001b[0;34m\u001b[0m\u001b[0m\n\u001b[1;32m    280\u001b[0m \u001b[0;34m\u001b[0m\u001b[0m\n",
      "\u001b[0;32m~/.pyenv/versions/3.7.12/lib/python3.7/site-packages/sklearn/utils/multiclass.py\u001b[0m in \u001b[0;36mis_multilabel\u001b[0;34m(y)\u001b[0m\n\u001b[1;32m    148\u001b[0m             \u001b[0mwarnings\u001b[0m\u001b[0;34m.\u001b[0m\u001b[0msimplefilter\u001b[0m\u001b[0;34m(\u001b[0m\u001b[0;34m\"error\"\u001b[0m\u001b[0;34m,\u001b[0m \u001b[0mnp\u001b[0m\u001b[0;34m.\u001b[0m\u001b[0mVisibleDeprecationWarning\u001b[0m\u001b[0;34m)\u001b[0m\u001b[0;34m\u001b[0m\u001b[0;34m\u001b[0m\u001b[0m\n\u001b[1;32m    149\u001b[0m             \u001b[0;32mtry\u001b[0m\u001b[0;34m:\u001b[0m\u001b[0;34m\u001b[0m\u001b[0;34m\u001b[0m\u001b[0m\n\u001b[0;32m--> 150\u001b[0;31m                 \u001b[0my\u001b[0m \u001b[0;34m=\u001b[0m \u001b[0mnp\u001b[0m\u001b[0;34m.\u001b[0m\u001b[0masarray\u001b[0m\u001b[0;34m(\u001b[0m\u001b[0my\u001b[0m\u001b[0;34m)\u001b[0m\u001b[0;34m\u001b[0m\u001b[0;34m\u001b[0m\u001b[0m\n\u001b[0m\u001b[1;32m    151\u001b[0m             \u001b[0;32mexcept\u001b[0m \u001b[0mnp\u001b[0m\u001b[0;34m.\u001b[0m\u001b[0mVisibleDeprecationWarning\u001b[0m\u001b[0;34m:\u001b[0m\u001b[0;34m\u001b[0m\u001b[0;34m\u001b[0m\u001b[0m\n\u001b[1;32m    152\u001b[0m                 \u001b[0;31m# dtype=object should be provided explicitly for ragged arrays,\u001b[0m\u001b[0;34m\u001b[0m\u001b[0;34m\u001b[0m\u001b[0;34m\u001b[0m\u001b[0m\n",
      "\u001b[0;32m~/.pyenv/versions/3.7.12/lib/python3.7/site-packages/torch/_tensor.py\u001b[0m in \u001b[0;36m__array__\u001b[0;34m(self, dtype)\u001b[0m\n\u001b[1;32m    954\u001b[0m             \u001b[0;32mreturn\u001b[0m \u001b[0mhandle_torch_function\u001b[0m\u001b[0;34m(\u001b[0m\u001b[0mTensor\u001b[0m\u001b[0;34m.\u001b[0m\u001b[0m__array__\u001b[0m\u001b[0;34m,\u001b[0m \u001b[0;34m(\u001b[0m\u001b[0mself\u001b[0m\u001b[0;34m,\u001b[0m\u001b[0;34m)\u001b[0m\u001b[0;34m,\u001b[0m \u001b[0mself\u001b[0m\u001b[0;34m,\u001b[0m \u001b[0mdtype\u001b[0m\u001b[0;34m=\u001b[0m\u001b[0mdtype\u001b[0m\u001b[0;34m)\u001b[0m\u001b[0;34m\u001b[0m\u001b[0;34m\u001b[0m\u001b[0m\n\u001b[1;32m    955\u001b[0m         \u001b[0;32mif\u001b[0m \u001b[0mdtype\u001b[0m \u001b[0;32mis\u001b[0m \u001b[0;32mNone\u001b[0m\u001b[0;34m:\u001b[0m\u001b[0;34m\u001b[0m\u001b[0;34m\u001b[0m\u001b[0m\n\u001b[0;32m--> 956\u001b[0;31m             \u001b[0;32mreturn\u001b[0m \u001b[0mself\u001b[0m\u001b[0;34m.\u001b[0m\u001b[0mnumpy\u001b[0m\u001b[0;34m(\u001b[0m\u001b[0;34m)\u001b[0m\u001b[0;34m\u001b[0m\u001b[0;34m\u001b[0m\u001b[0m\n\u001b[0m\u001b[1;32m    957\u001b[0m         \u001b[0;32melse\u001b[0m\u001b[0;34m:\u001b[0m\u001b[0;34m\u001b[0m\u001b[0;34m\u001b[0m\u001b[0m\n\u001b[1;32m    958\u001b[0m             \u001b[0;32mreturn\u001b[0m \u001b[0mself\u001b[0m\u001b[0;34m.\u001b[0m\u001b[0mnumpy\u001b[0m\u001b[0;34m(\u001b[0m\u001b[0;34m)\u001b[0m\u001b[0;34m.\u001b[0m\u001b[0mastype\u001b[0m\u001b[0;34m(\u001b[0m\u001b[0mdtype\u001b[0m\u001b[0;34m,\u001b[0m \u001b[0mcopy\u001b[0m\u001b[0;34m=\u001b[0m\u001b[0;32mFalse\u001b[0m\u001b[0;34m)\u001b[0m\u001b[0;34m\u001b[0m\u001b[0;34m\u001b[0m\u001b[0m\n",
      "\u001b[0;31mTypeError\u001b[0m: can't convert cuda:0 device type tensor to numpy. Use Tensor.cpu() to copy the tensor to host memory first."
     ]
    }
   ],
   "source": [
    "HTER, auc_test = test(model, test_loader, score_root_path, 10, \"PnJ\")"
   ]
  },
  {
   "cell_type": "code",
   "execution_count": null,
   "id": "84aa59f2",
   "metadata": {},
   "outputs": [],
   "source": []
  }
 ],
 "metadata": {
  "kernelspec": {
   "display_name": "Python 3.7.12 64-bit ('3.7.12')",
   "language": "python",
   "name": "python3"
  },
  "language_info": {
   "codemirror_mode": {
    "name": "ipython",
    "version": 3
   },
   "file_extension": ".py",
   "mimetype": "text/x-python",
   "name": "python",
   "nbconvert_exporter": "python",
   "pygments_lexer": "ipython3",
   "version": "3.8.18"
  },
  "vscode": {
   "interpreter": {
    "hash": "da18b967597d7785202507265ba9acae17dc0c34e05b821a9802c5c8c4bf8a6c"
   }
  }
 },
 "nbformat": 4,
 "nbformat_minor": 5
}
