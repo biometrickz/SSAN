{
 "cells": [
  {
   "cell_type": "markdown",
   "metadata": {},
   "source": [
    "# Datasets preparation. 1. Creating labels"
   ]
  },
  {
   "cell_type": "code",
   "execution_count": null,
   "id": "6680d6e1-d4a3-45da-b138-252c1803b830",
   "metadata": {},
   "outputs": [],
   "source": [
    "import os\n",
    "import pandas as pd\n",
    "from utils import *\n",
    "from sklearn.model_selection import train_test_split"
   ]
  },
  {
   "cell_type": "code",
   "execution_count": null,
   "id": "8117a3fc",
   "metadata": {},
   "outputs": [],
   "source": [
    "def train_test_split_by_dirs(df, group_column='dir_name', train_ratio=0.8, val_ratio = 0.1):    \n",
    "# Group by the given column\n",
    "    grouped = df.groupby(group_column)\n",
    "\n",
    "    # Get the unique groups\n",
    "    groups = list(grouped.groups.keys())\n",
    "\n",
    "    # Shuffle the groups\n",
    "    np.random.shuffle(groups)\n",
    "\n",
    "    # Calculate the number of groups for each set\n",
    "    n_total = len(groups)\n",
    "    n_train = int(n_total * train_ratio)\n",
    "    n_val = int(n_total * val_ratio)\n",
    "\n",
    "    # Split the groups\n",
    "    train_groups = groups[:n_train]\n",
    "    val_groups = groups[n_train:n_train + n_val]\n",
    "    test_groups = groups[n_train + n_val:]\n",
    "\n",
    "    # Create the Train, Validation, and Test DataFrames\n",
    "    train_df = df[df[group_column].isin(train_groups)]\n",
    "    val_df = df[df[group_column].isin(val_groups)]\n",
    "    test_df = df[df[group_column].isin(test_groups)]\n",
    "\n",
    "    return train_df, val_df, test_df"
   ]
  },
  {
   "cell_type": "code",
   "execution_count": null,
   "id": "58e30627",
   "metadata": {},
   "outputs": [],
   "source": [
    "df = pd.read_csv('./data/test_list_mask.csv')\n",
    "df = df[df['label']==0]\n",
    "df['fname'] = df['fname'].apply(lambda x: x.replace('/media/user/685b3289-4051-4530-9827-ef770d2e3f28/ml_projects_yeldar/cropped_youtube_insta_tiktok', '/app/data_dir/mask_test'))\n",
    "df['dir_name'] = df['fname'].apply(lambda x: x.split('/')[4])\n",
    "train_df, val_df, test_df = train_test_split_by_dirs(df, group_column='dir_name', train_ratio=0.8, val_ratio = 0.1)"
   ]
  },
  {
   "cell_type": "code",
   "execution_count": null,
   "id": "78574492",
   "metadata": {},
   "outputs": [],
   "source": [
    "train_df.drop(columns=['dir_name'], inplace=True)\n",
    "val_df.drop(columns=['dir_name'], inplace=True)\n",
    "test_df.drop(columns=['dir_name'], inplace=True)\n",
    "train_df"
   ]
  },
  {
   "cell_type": "code",
   "execution_count": null,
   "id": "18c9b638",
   "metadata": {},
   "outputs": [],
   "source": [
    "dftr = pd.read_csv('./data/train_list11.csv')\n",
    "dfv = pd.read_csv('./data/tra/val_list11.csv')\n",
    "dfts = pd.read_csv('./data/tra/test_list11.csv')"
   ]
  },
  {
   "cell_type": "code",
   "execution_count": null,
   "id": "08ba9564",
   "metadata": {},
   "outputs": [],
   "source": [
    "df = pd.concat([dftr, train_df], axis=0)\n",
    "df.to_csv('./data/train_list13.csv', index=False)\n",
    "df"
   ]
  },
  {
   "cell_type": "code",
   "execution_count": null,
   "id": "845fdece",
   "metadata": {},
   "outputs": [],
   "source": [
    "df = pd.concat([dfv, val_df], axis=0)\n",
    "df.to_csv('./data/val_list13.csv', index=False)"
   ]
  },
  {
   "cell_type": "code",
   "execution_count": null,
   "id": "3739a793",
   "metadata": {},
   "outputs": [],
   "source": [
    "df = pd.concat([dfts, test_df], axis=0)\n",
    "df.to_csv('./data/test_list13.csv', index=False)"
   ]
  },
  {
   "cell_type": "code",
   "execution_count": null,
   "id": "ad94d60e",
   "metadata": {},
   "outputs": [],
   "source": [
    "df = pd.read_csv(\"./data/test_list13.csv\")\n",
    "df"
   ]
  },
  {
   "cell_type": "code",
   "execution_count": null,
   "id": "4fc58355",
   "metadata": {},
   "outputs": [],
   "source": [
    "dfts.columns=['fname', 'label']\n",
    "dfts"
   ]
  },
  {
   "cell_type": "code",
   "execution_count": null,
   "id": "aed6b3f3",
   "metadata": {},
   "outputs": [],
   "source": [
    "def get_folder_name(fpath):\n",
    "    foldername = None\n",
    "    if 'Live' in fpath:\n",
    "        return 'live'\n",
    "    if 'Makeup' in fpath or 'Partial_Funnyeye' in fpath or 'Paper' in fpath or 'Partial_Eye' in fpath or 'Replay' in fpath:\n",
    "        foldername = 'Exclude'\n",
    "    else:\n",
    "        if 'Mask_Mann' in fpath:\n",
    "            foldername = 'Mannequin'\n",
    "        elif 'Mask_Half' in fpath:\n",
    "            foldername = 'Mask_HalfMask'\n",
    "        elif 'Mask_Paper' in fpath:\n",
    "            foldername = 'Mask_PaperMask'\n",
    "        elif 'Mask_Trans' in fpath:\n",
    "            foldername = 'Mask_TransparentMask'\n",
    "        elif 'Partial_Mouth' in fpath:\n",
    "            foldername = 'Partial_Mouth'\n",
    "        elif 'Partial_Paperglass' in fpath:\n",
    "            foldername = 'Partial_PaperGlasses'\n",
    "        elif 'Mask_Silicone' in fpath:\n",
    "            foldername = 'Silicone'\n",
    "    return foldername\n",
    "\n",
    "df['foldername'] = df['fname'].apply(lambda x: get_folder_name(x))"
   ]
  },
  {
   "cell_type": "code",
   "execution_count": null,
   "id": "9afb4d0d",
   "metadata": {},
   "outputs": [],
   "source": []
  },
  {
   "cell_type": "code",
   "execution_count": null,
   "id": "701a81aa",
   "metadata": {},
   "outputs": [],
   "source": [
    "newnames = []\n",
    "labels = []\n",
    "for ind, row in df.iterrows():\n",
    "    pref = '/'.join(row['fname'].split('/')[:-2])\n",
    "    foldername = get_folder_name(row['fname'])\n",
    "    suf = '/'.join(row['fname'].split('/')[-2:])\n",
    "    # print(pref, foldername, suf)\n",
    "    if 'live' in row['fname']:\n",
    "        newnames.append(row['fname'])\n",
    "    else:\n",
    "        newnames.append(os.path.join(pref, foldername, suf))\n",
    "    labels.append(row['label'])"
   ]
  },
  {
   "cell_type": "code",
   "execution_count": null,
   "id": "95b08cd3",
   "metadata": {},
   "outputs": [],
   "source": [
    "df['fname'] = df['fname'].apply(lambda x: os.path.join('/'.join(str(x).split('/')[:-2]), get_folder_name(str(x)), '/'.join(str(x).split('/')[-2:])) if 'live' not in str(x) else str(x))"
   ]
  },
  {
   "cell_type": "code",
   "execution_count": null,
   "id": "b6c4c861",
   "metadata": {},
   "outputs": [],
   "source": [
    "df.to_csv(\"retina_SiwMv2.csv\", index=False)"
   ]
  },
  {
   "cell_type": "code",
   "execution_count": null,
   "id": "3c83d833",
   "metadata": {},
   "outputs": [],
   "source": [
    "train_df, val_df, test_df = train_test_split_by_dirs(df, group_column='dir_name', train_ratio=0.8, val_ratio = 0.1)"
   ]
  },
  {
   "cell_type": "code",
   "execution_count": null,
   "id": "76ed1734",
   "metadata": {},
   "outputs": [],
   "source": [
    "alldf = pd.read_csv('/mnt/8TB/ml_projects_yeldar/patchnet/train/train_list.csv')\n",
    "test_df = pd.read_csv('/mnt/8TB/ml_projects_yeldar/patchnet/test/test_list.csv')\n",
    "# d1 = pd.read_csv('/mnt/8TB/ml_projects_yeldar/patchnet/train/train_list9.csv')\n",
    "d2 = pd.read_csv('/mnt/8TB/ml_projects_yeldar/patchnet/val/val_list.csv')\n",
    "# df.to_csv(f'/mnt/8TB/ml_projects_yeldar/patchnet/test/test_list9.csv', index=False)"
   ]
  },
  {
   "cell_type": "code",
   "execution_count": null,
   "id": "9cbbcb79",
   "metadata": {},
   "outputs": [],
   "source": [
    "for tp in ['train', 'test', 'val']:\n",
    "    train_csv = f'/mnt/8TB/ml_projects_yeldar/patchnet/{tp}/{tp}_list2.csv'\n",
    "    df = pd.read_csv(train_csv)\n",
    "    indexAge = df[df['fname'].str.contains(\"XCSMAD\") & df['label']==1].index\n",
    "    df.drop(indexAge , inplace=True)\n",
    "    df.to_csv(f'/mnt/8TB/ml_projects_yeldar/patchnet/{tp}/{tp}_list3.csv', index=False)"
   ]
  },
  {
   "cell_type": "code",
   "execution_count": null,
   "id": "6e0fad27",
   "metadata": {},
   "outputs": [],
   "source": [
    "for tp in ['train', 'test', 'val']:\n",
    "    csv_path1 = '/mnt/8TB/ml_projects_yeldar/patchnet'\n",
    "    csv1 = os.path.join(csv_path1, tp, f\"{tp}_list2.csv\")\n",
    "    df_1 = pd.read_csv(csv1)\n",
    "    df_1['fname'] = df_1['fname'].apply(lambda x: os.path.join(dir[x.split('/')[-2]], os.path.basename(x)) if \"22TB\" in x else x)\n",
    "    df_1.to_csv(csv1, index=False)"
   ]
  },
  {
   "cell_type": "markdown",
   "id": "001df309",
   "metadata": {},
   "source": [
    "## Processing M2 (Swiss dataset)"
   ]
  },
  {
   "cell_type": "code",
   "execution_count": null,
   "id": "dcca2cee",
   "metadata": {},
   "outputs": [],
   "source": [
    "xcsmad_path = \"/mnt/22TB/Yeldar/XCSMAD_decoded/gray/color/videos/face-station\"\n",
    "xcsmad_prefix = 'xcsmad'\n",
    "dirk = {}\n",
    "print(\"Starting processing dataset xcsmad\")\n",
    "for sub_dir in os.listdir(xcsmad_path):\n",
    "    s_path = os.path.join(xcsmad_path, sub_dir)\n",
    "    subdirs = os.listdir(s_path)\n",
    "    for sdir in subdirs:\n",
    "        sspath = os.path.join(s_path, sdir)\n",
    "        dirk[sdir] = sspath"
   ]
  },
  {
   "cell_type": "code",
   "execution_count": null,
   "id": "b50f6d12-156a-44c7-b2a7-7664e393588d",
   "metadata": {},
   "outputs": [],
   "source": [
    "def generate_labels_csv(dirr):\n",
    "    train_files = os.listdir(dirr)\n",
    "    df = pd.DataFrame(columns=[\"label\", \"fname\"])\n",
    "    df[\"fname\"] = [os.path.join(dirr, x) for x in train_files]\n",
    "    # if 'mask' in dirr:\n",
    "    if dirr.split('_')[-2] == '2':\n",
    "        df[\"label\"] = 0\n",
    "    elif dirr.split('_')[-2] == '0':\n",
    "        df[\"label\"] = 1\n",
    "    else:\n",
    "        print(dirr, dirr.split('_')[-2], type(dirr.split('_')[-2]))\n",
    "    return df"
   ]
  },
  {
   "cell_type": "code",
   "execution_count": null,
   "id": "bf664bfc",
   "metadata": {},
   "outputs": [],
   "source": [
    "dir_p = \"/mnt/22TB/Yeldar/XCSMAD_decoded/gray/color/videos/face-station\"\n",
    "dirs = os.listdir(dir_p)\n",
    "# for tp in ['train', 'test', 'val']:\n",
    "    # for cp in ['live', 'mask']:\n",
    "# dirr1 = f\"{dir_p}/{tp}/live\"\n",
    "df = pd.DataFrame(columns=[\"label\", \"fname\"])\n",
    "for dir in dirs:\n",
    "    dp = os.path.join(dir_p, dir)\n",
    "    dirss = os.listdir(dp)\n",
    "    for dirr in dirss:\n",
    "        dpp = os.path.join(dp, dirr)\n",
    "        df1 = generate_labels_csv(dpp)\n",
    "        df = pd.concat([df, df1], ignore_index=True)\n",
    "    # print(df.head())\n",
    "df.to_csv(\"xscmad.csv\", index=False)"
   ]
  },
  {
   "cell_type": "code",
   "execution_count": null,
   "id": "0e5d2da3",
   "metadata": {},
   "outputs": [],
   "source": [
    "# M1 59426+6014+6648 = 72k\n",
    "# train_list: live/spoof 40906/18520 2.2:1 \n",
    "\n",
    "# M1+M3\n",
    "# train_list5: live/spoof 40906/45188 0.9:1\n",
    "\n",
    "# M1+M4\n",
    "# train_list8: live/spoof 48394/21641 2 : 1   \n",
    "\n",
    "# M1+M3+M4\n",
    "# train_list9: live/spoof 48394/48310 1 : 1   "
   ]
  },
  {
   "cell_type": "code",
   "execution_count": null,
   "id": "c86e6745",
   "metadata": {},
   "outputs": [],
   "source": [
    "# train_csv = 'data/full_mask_detection_dataset.csv'\n",
    "# df = pd.read_csv(train_csv)\n",
    "# df\n",
    "df[df['dataset'].str.contains(\"DESKTOP\")]['image_name'].iloc[0]"
   ]
  },
  {
   "cell_type": "markdown",
   "id": "ee87d685",
   "metadata": {},
   "source": [
    "## Area distribution"
   ]
  },
  {
   "cell_type": "code",
   "execution_count": null,
   "id": "f28ba79d",
   "metadata": {},
   "outputs": [],
   "source": [
    "import pandas as pd\n",
    "import cv2\n",
    "import matplotlib.pyplot as plt\n",
    "import seaborn as sns\n",
    "\n",
    "def get_area(ip):\n",
    "    ip = ip.replace(\"data_dir\", \"/media/user/685b3289-4051-4530-9827-ef770d2e3f28/ml_projects_yeldar/patchnet\")\n",
    "    try:\n",
    "        return cv2.imread(ip).shape\n",
    "    except:\n",
    "        print(ip)\n",
    "        return None\n",
    "    \n",
    "def get_min_shape(shp):\n",
    "    try:\n",
    "        return min(shp[:2])\n",
    "    except:\n",
    "        print(shp)\n",
    "        return None\n",
    "\n",
    "tp = 'train'\n",
    "train_csv = f'./data/{tp}_list11.csv'\n",
    "df = pd.read_csv(train_csv)\n",
    "df['shape'] = df['fname'].apply(lambda x: get_area(x))\n",
    "df['shape_min'] = df['shape'].apply(lambda x: get_min_shape(x))\n",
    "# df = df[df['shape_min'] >= 112]\n",
    "# df.to_csv(train_csv, index=False)"
   ]
  },
  {
   "cell_type": "code",
   "execution_count": null,
   "id": "d1174cb6",
   "metadata": {},
   "outputs": [],
   "source": [
    "df"
   ]
  },
  {
   "cell_type": "code",
   "execution_count": null,
   "id": "d92bd37a",
   "metadata": {},
   "outputs": [],
   "source": [
    "hist = df['shape_min'].hist(bins=10)"
   ]
  },
  {
   "cell_type": "code",
   "execution_count": null,
   "id": "38043376",
   "metadata": {},
   "outputs": [],
   "source": [
    "plt.figure(figsize=(8, 6))\n",
    "plt.hist(df['shape_min'], bins=10, color='blue', edgecolor='black')\n",
    "plt.title('Distribution of Minimum Image Shape')\n",
    "plt.xlabel('Minimum Side Length (pixels)')\n",
    "plt.ylabel('Frequency')\n",
    "plt.grid(True)\n",
    "plt.show()"
   ]
  },
  {
   "cell_type": "code",
   "execution_count": null,
   "id": "f33e6829",
   "metadata": {},
   "outputs": [],
   "source": [
    "plt.figure(figsize=(10, 6))\n",
    "\n",
    "# Plot histogram with seaborn\n",
    "bins = range(0, max(df['shape_min']) + 50, 50)\n",
    "sns.histplot(df['shape_min'], bins=bins, kde=True, color='blue')\n",
    "\n",
    "# Add a title and labels\n",
    "plt.title('Distribution of M1, M3, M4 - train data min img.shape, Total train data - 140k images')\n",
    "plt.xlabel('Minimum Side Length (pixels)')\n",
    "plt.ylabel('Frequency')\n",
    "\n",
    "# Set the x-axis tick intervals (optional: customize the range)\n",
    "plt.xticks(range(0, max(df['shape_min']) + 100, 100))\n",
    "\n",
    "# Display the grid and show the plot\n",
    "plt.grid(True)\n",
    "plt.show()"
   ]
  },
  {
   "cell_type": "markdown",
   "id": "e1a1cb8f",
   "metadata": {},
   "source": [
    "## Adding D3 live to train, val datasets"
   ]
  },
  {
   "cell_type": "code",
   "execution_count": null,
   "id": "b43aba22",
   "metadata": {},
   "outputs": [],
   "source": [
    "from tqdm import tqdm\n",
    "import os\n",
    "import pandas as pd"
   ]
  },
  {
   "cell_type": "code",
   "execution_count": null,
   "id": "fe45226d",
   "metadata": {},
   "outputs": [],
   "source": [
    "def get_new_imgs(dpath, train_csv='data/full_mask_detection_dataset.csv', size=3000):\n",
    "    df = pd.read_csv(train_csv)\n",
    "    df['subject'] = df['fname'].apply(lambda x : x.split('/')[-2])\n",
    "    folders = os.listdir(dpath)\n",
    "    newd3folders = []\n",
    "    for f in tqdm(folders):\n",
    "        if f not in list(df['subject']):\n",
    "            newd3folders.append(f)\n",
    "        if len(newd3folders) >= size:\n",
    "            break\n",
    "    newd3folders = newd3folders[:size]\n",
    "    new_d3imgs = []\n",
    "    for newf in tqdm(newd3folders):\n",
    "        newfp = os.path.join(dpath, newf)\n",
    "        # if '.db' not in img:\n",
    "        new_d3imgs.extend([os.path.join(newfp, x) for x in os.listdir(newfp)])\n",
    "    finald3imgs = []\n",
    "    for x in tqdm(new_d3imgs):\n",
    "        if '.db' not in x:\n",
    "            finald3imgs.append(x)\n",
    "        if len(finald3imgs) >= size:\n",
    "            break\n",
    "    return finald3imgs[:size]\n",
    "\n",
    "# When dpath has no subfolders, but only images\n",
    "def get_new_imgs2(dpath, train_csv='data/full_mask_detection_dataset.csv', size=3000):\n",
    "    df = pd.read_csv(train_csv)\n",
    "    imgs = os.listdir(dpath)\n",
    "    newimgs = []\n",
    "    for f in tqdm(imgs):\n",
    "        if f not in list(df['subject']) and '.db' not in f:\n",
    "            newimgs.append(os.path.join(dpath, f))\n",
    "        if len(newimgs) >= size:\n",
    "            break\n",
    "    new_d3imgs = newimgs[:size]\n",
    "    return new_d3imgs[:size]\n",
    "\n",
    "def add_to_df(new_img_paths, dataset_name, df_name='new_train_data.csv', label=1.0):\n",
    "    try:\n",
    "        df = pd.read_csv(df_name)\n",
    "    except:\n",
    "        df = pd.DataFrame({\"label\":[], \"fname\":[], \"dataset\":[]})\n",
    "\n",
    "    new_df = pd.DataFrame({\"label\":[label]*len(new_img_paths), \"fname\":new_img_paths, \"dataset\":[dataset_name]*len(new_img_paths)})\n",
    "    df = pd.concat([df, new_df], ignore_index=True)\n",
    "    df.to_csv(df_name, index=False)"
   ]
  },
  {
   "cell_type": "code",
   "execution_count": null,
   "id": "de849520",
   "metadata": {},
   "outputs": [],
   "source": [
    "n1 = \"./data/full_mask_detection_dataset.csv\"\n",
    "df1 = pd.read_csv(n1)\n",
    "df2 = pd.read_csv(\"./data/test_list11.csv\")\n",
    "df2\n"
   ]
  },
  {
   "cell_type": "code",
   "execution_count": null,
   "id": "cd234c68",
   "metadata": {},
   "outputs": [],
   "source": [
    "df = pd.read_csv(\"./data/test_list11.csv\")\n",
    "\n",
    "df"
   ]
  },
  {
   "cell_type": "code",
   "execution_count": null,
   "id": "d26014e3",
   "metadata": {},
   "outputs": [],
   "source": [
    "data_dir = '/app/data_dir/M1_3_4_test/'\n",
    "df['label'] = df['label'].apply(lambda x: 'live' if x == 1 else 'spoof')\n",
    "df['image_name'] = df.apply(lambda row: os.path.join(data_dir, row['label'], row['img_basename']), axis=1)\n",
    "\n",
    "df"
   ]
  },
  {
   "cell_type": "code",
   "execution_count": null,
   "id": "852b8d51",
   "metadata": {},
   "outputs": [],
   "source": [
    "df.to_csv(\"./data/test_list11.csv\", index=False)"
   ]
  },
  {
   "cell_type": "code",
   "execution_count": null,
   "id": "e15744db",
   "metadata": {},
   "outputs": [],
   "source": [
    "df_test = df.sample(n=16844)\n",
    "df_remaining = df.drop(df_test.index)\n",
    "df_test"
   ]
  },
  {
   "cell_type": "code",
   "execution_count": null,
   "id": "4413750f",
   "metadata": {},
   "outputs": [],
   "source": [
    "val_csv = '/mnt/8TB/ml_projects_yeldar/patchnet/train/train_list10.csv'\n",
    "df = pd.read_csv(val_csv)\n",
    "df['subject'] = df['fname'].apply(lambda x : x.split('/')[-2])\n",
    "df\n",
    "# 9844/96704"
   ]
  },
  {
   "cell_type": "code",
   "execution_count": null,
   "id": "9699c120",
   "metadata": {},
   "outputs": [],
   "source": [
    "import os\n",
    "import shutil\n",
    "import pandas as pd\n",
    "\n",
    "# Path to the given folder where live and spoof folders will be created\n",
    "# target_folder = '/mnt/8TB/ml_projects_yeldar/patchnet/M1_3_4_test'\n",
    "target_folder = '/media/user/685b3289-4051-4530-9827-ef770d2e3f28/ml_projects_yeldar/M134/train'\n",
    "\n",
    "# Create live and spoof folders\n",
    "live_folder = os.path.join(target_folder, 'live')\n",
    "spoof_folder = os.path.join(target_folder, 'spoof')\n",
    "\n",
    "os.makedirs(live_folder, exist_ok=True)\n",
    "os.makedirs(spoof_folder, exist_ok=True)\n",
    "\n",
    "# Path to the CSV file\n",
    "csv_file = './data/test_list11.csv'\n",
    "\n",
    "# Read the CSV file (assuming the file paths are in a column named 'path')\n",
    "df = pd.read_csv(csv_file)\n",
    "\n",
    "# Iterate over each row in the DataFrame\n",
    "for _, row in df.iterrows():\n",
    "    file_path = row['image_name']\n",
    "    \n",
    "    # Check if the file exists to avoid errors\n",
    "    if os.path.isfile(file_path):\n",
    "        # Determine if the path contains the word 'live'\n",
    "        if int(row['label']) == 1: \n",
    "            # Copy the file to the live folder\n",
    "            shutil.copy(file_path, live_folder)\n",
    "        else:\n",
    "            # Copy the file to the spoof folder\n",
    "            shutil.copy(file_path, spoof_folder)\n",
    "    else:\n",
    "        print(f\"File not found: {file_path}\")\n"
   ]
  },
  {
   "cell_type": "code",
   "execution_count": null,
   "id": "fbbcac7c",
   "metadata": {},
   "outputs": [],
   "source": [
    "dpath = \"/mnt/22TB/Nurmukhammed/CROPPED_FAS_DATASETS/RETINA_FACE_DETECTIONS/D3_updated/live/\"\n",
    "dataset_name = 'D3'\n",
    "size = 7000\n",
    "label = 1\n",
    "new_img_paths = get_new_imgs(dpath, train_csv='/mnt/8TB/ml_projects_yeldar/patchnet/train/train_list10.csv', size=size)\n",
    "add_to_df(new_img_paths, dataset_name, df_name='new_val_data.csv')"
   ]
  },
  {
   "cell_type": "code",
   "execution_count": null,
   "id": "0577ad2c",
   "metadata": {},
   "outputs": [],
   "source": [
    "ndf = pd.read_csv('data/new_val_data.csv')\n",
    "ndf"
   ]
  },
  {
   "cell_type": "code",
   "execution_count": null,
   "id": "7d74b7ef",
   "metadata": {},
   "outputs": [],
   "source": [
    "train_csv = f'/mnt/8TB/ml_projects_yeldar/patchnet/val/val_list9.csv'\n",
    "alldf = pd.read_csv(train_csv)\n",
    "df = pd.concat([alldf, ndf], ignore_index=True)\n",
    "df = df[~df['fname'].str.contains(\"Thumbs.db\")]\n",
    "df.to_csv(f'/mnt/8TB/ml_projects_yeldar/patchnet/val/val_list10.csv', index=False)"
   ]
  },
  {
   "cell_type": "code",
   "execution_count": null,
   "id": "30dbd0b8",
   "metadata": {},
   "outputs": [],
   "source": [
    "train_csv = f'/mnt/8TB/ml_projects_yeldar/patchnet/val/val_list10.csv'\n",
    "alldf = pd.read_csv(train_csv)\n",
    "alldf['fname'] = alldf['fname'].apply(lambda x: x.replace('22tb','22TB'))\n",
    "alldf.to_csv(f'/mnt/8TB/ml_projects_yeldar/patchnet/val/val_list10.csv', index=False)          "
   ]
  },
  {
   "cell_type": "code",
   "execution_count": null,
   "id": "07b8ddc0",
   "metadata": {},
   "outputs": [],
   "source": [
    "tp = 'train'\n",
    "train_csv = f'./data/{tp}_list12.csv'\n",
    "size = 15466\n",
    "df = pd.read_csv(train_csv)[:size]\n",
    "# df\n",
    "# df['fname'] = df['fname'].apply(lambda x: x.replace('/mnt/8TB/ml_projects_yeldar/', '/data_dir/'))\n",
    "# df['fname'] = df['fname'].apply(lambda x: x.replace('/patchnet/', '/'))\n",
    "df.to_csv(f'./data/{tp}_list12.csv', index=False)          "
   ]
  },
  {
   "cell_type": "markdown",
   "id": "c3a91cd1",
   "metadata": {},
   "source": [
    "train9 ->\n",
    "train10 transformation"
   ]
  },
  {
   "cell_type": "code",
   "execution_count": null,
   "id": "7e45475d",
   "metadata": {},
   "outputs": [],
   "source": [
    "import pandas as pd\n",
    "import filecmp"
   ]
  },
  {
   "cell_type": "code",
   "execution_count": null,
   "id": "62da2949",
   "metadata": {},
   "outputs": [],
   "source": [
    "n1 = \"/media/user/685b3289-4051-4530-9827-ef770d2e3f28/ml_projects_yeldar/patchnet/train/train_list10.csv\"\n",
    "df1 = pd.read_csv(n1)\n",
    "n2 = \"/media/user/685b3289-4051-4530-9827-ef770d2e3f28/ml_projects_yeldar/patchnet/train/train_list11.csv\"\n",
    "df2 = pd.read_csv(n2)\n",
    "n3 = \"/media/user/685b3289-4051-4530-9827-ef770d2e3f28/ml_projects_yeldar/patchnet/train/train_list.csv\"\n",
    "df3 = pd.read_csv(n3)\n",
    "df3['fname'] = df3['fname'].apply(lambda x: x.replace('/mnt/8TB', '/media/user/685b3289-4051-4530-9827-ef770d2e3f28'))\n",
    "a['img'] = a['fname'].apply(lambda x:  \"/\".join(x.split('/')[-1:]))\n",
    "df3['img'] = df3['fname'].apply(lambda x:  \"/\".join(x.split('/')[-1:]))\n",
    "df3"
   ]
  },
  {
   "cell_type": "code",
   "execution_count": null,
   "id": "ad99b37a",
   "metadata": {},
   "outputs": [],
   "source": [
    "a = df1[~df1['fname'].str.contains(\"patchnet/train\")]\n",
    "a = a[~a['fname'].str.contains(\"sil_mask_youtube_after_corr\")]\n",
    "a = a[~a['fname'].str.contains(\"SiWMv2\")]\n",
    "a = a[~a['fname'].str.contains(\"D2/\")]\n",
    "a = a[~a['fname'].str.contains(\"D1/\")]\n",
    "a['img'] = a['fname'].apply(lambda x:  \"/\".join(x.split('/')[-1:]))\n",
    "\n",
    "# a\n",
    "a['fname'].iloc[0]"
   ]
  },
  {
   "cell_type": "code",
   "execution_count": null,
   "id": "2b698579",
   "metadata": {},
   "outputs": [],
   "source": [
    "a = a.reset_index()\n",
    "a"
   ]
  },
  {
   "cell_type": "code",
   "execution_count": null,
   "id": "f0c378d4",
   "metadata": {},
   "outputs": [],
   "source": [
    "for i, row in df3.iterrows():\n",
    "    # if row['img'] in a['img'].values:\n",
    "    ind = a[a['img'] == row['img']].index\n",
    "    if ind.any():\n",
    "        print(ind)\n",
    "        break\n",
    "    # if (filecmp.cmp(row['fname'], a[a['img']==row['img']]['fname'])):    \n",
    "    #     print(row)\n",
    "    #     break"
   ]
  },
  {
   "cell_type": "code",
   "execution_count": null,
   "id": "9d776217",
   "metadata": {},
   "outputs": [],
   "source": [
    "ind"
   ]
  },
  {
   "cell_type": "code",
   "execution_count": null,
   "id": "7e69a34a",
   "metadata": {},
   "outputs": [],
   "source": [
    "a.iloc[ind[0]]"
   ]
  },
  {
   "cell_type": "code",
   "execution_count": null,
   "id": "8d32d306",
   "metadata": {},
   "outputs": [],
   "source": [
    "m134_ = \"./data/tra/test_list9.csv\"\n",
    "# m134_ = \"/media/user/685b3289-4051-4530-9827-ef770d2e3f28/ml_projects_yeldar/patchnet/train/test_list9.csv\"\n",
    "df2 = pd.read_csv(m134_)\n",
    "m1_train = \"/media/user/685b3289-4051-4530-9827-ef770d2e3f28/ml_projects_yeldar/patchnet/train/train_list9.csv\"\n",
    "# m1_train = \"./data/train_list.csv\"\n",
    "df1 = pd.read_csv(m1_train)\n"
   ]
  },
  {
   "cell_type": "code",
   "execution_count": null,
   "id": "a8be6ea3",
   "metadata": {},
   "outputs": [],
   "source": [
    "df1['fname'] = df1['fname'].apply(lambda x:  \"/\".join(x.split('/')[-2:]))\n",
    "df1 = df1.rename(columns={'label':\"1\", 'fname':\"0\"})\n",
    "df2 = df2.rename(columns={'label':\"1\", 'fname':\"0\"})\n",
    "df2['0'] = df2['0'].apply(lambda x:  \"/\".join(x.split('/')[-2:]))\n",
    "\n",
    "df2\n"
   ]
  },
  {
   "cell_type": "code",
   "execution_count": null,
   "id": "b1e1c964",
   "metadata": {},
   "outputs": [],
   "source": [
    "df1"
   ]
  },
  {
   "cell_type": "code",
   "execution_count": null,
   "id": "6c7aea29",
   "metadata": {},
   "outputs": [],
   "source": [
    "a = df2['0'].tolist()\n",
    "a"
   ]
  },
  {
   "cell_type": "code",
   "execution_count": null,
   "id": "fb3998ac",
   "metadata": {},
   "outputs": [],
   "source": [
    "b = df1['0'].tolist()\n",
    "b"
   ]
  },
  {
   "cell_type": "code",
   "execution_count": null,
   "id": "eaf6db7c",
   "metadata": {},
   "outputs": [],
   "source": [
    "inters=[]\n",
    "for i in a:\n",
    "    if i in b:\n",
    "       inters.append(i)\n",
    "# if df2['0'].iloc[0] in df1['0']:\n",
    "#     print(\"Found\", df1['0'].index(df2['0'].iloc[0]))"
   ]
  },
  {
   "cell_type": "code",
   "execution_count": null,
   "id": "f45bbaa5",
   "metadata": {},
   "outputs": [],
   "source": [
    "inters[1]"
   ]
  },
  {
   "cell_type": "code",
   "execution_count": null,
   "id": "5d48904a",
   "metadata": {},
   "outputs": [],
   "source": [
    "len(inters)"
   ]
  },
  {
   "cell_type": "code",
   "execution_count": null,
   "id": "9af2f37a",
   "metadata": {},
   "outputs": [],
   "source": [
    "df2[df2['0']==\"live/f902acda-625c-45cc-b70b-587c4d5634cb.jpeg\"]"
   ]
  },
  {
   "cell_type": "code",
   "execution_count": null,
   "id": "fd8a262e",
   "metadata": {},
   "outputs": [],
   "source": [
    "import os \n",
    "import pandas as pd"
   ]
  },
  {
   "cell_type": "code",
   "execution_count": null,
   "id": "430a31fb",
   "metadata": {},
   "outputs": [],
   "source": [
    "\n",
    "# Set paths\n",
    "data_dir = '/mnt/8TB/ml_projects_yeldar/MaskSynthez/cropped_M4'  # Replace with the path to your folder containing 28 subfolders\n",
    "output_dir = \"/home/user/ml_projects/Yeldar/SSAN\"  # Replace with where you want to save the CSV files"
   ]
  },
  {
   "cell_type": "code",
   "execution_count": null,
   "id": "bb60e496",
   "metadata": {},
   "outputs": [],
   "source": [
    "import os\n",
    "import random\n",
    "import csv\n",
    "from pathlib import Path\n",
    "\n",
    "\n",
    "# Distribution for train/val/test\n",
    "train_ratio = 0.8\n",
    "val_ratio = 0.1\n",
    "test_ratio = 0.1\n",
    "\n",
    "# Lists to store paths for each split\n",
    "train_data = []\n",
    "val_data = []\n",
    "test_data = []\n",
    "\n",
    "# Process each subfolder\n",
    "for subfolder in sorted(Path(data_dir).glob(\"*/\")):\n",
    "    images = list(subfolder.glob(\"*.jpg\"))  # Adjust extension if needed (e.g., .png)\n",
    "    random.shuffle(images)\n",
    "    \n",
    "    # Calculate split indices\n",
    "    train_count = int(len(images) * train_ratio)\n",
    "    val_count = int(len(images) * val_ratio)\n",
    "    \n",
    "    # Split data\n",
    "    train_data.extend([(img, subfolder.name) for img in images[:train_count]])\n",
    "    val_data.extend([(img, subfolder.name) for img in images[train_count:train_count + val_count]])\n",
    "    test_data.extend([(img, subfolder.name) for img in images[train_count + val_count:]])\n",
    "\n",
    "# Function to save split data to CSV\n",
    "def save_to_csv(data, filename):\n",
    "    with open(filename, mode=\"w\", newline=\"\") as file:\n",
    "        writer = csv.writer(file)\n",
    "        writer.writerow([\"image_path\", \"label\"])  # CSV header\n",
    "        for img_path, label in data:\n",
    "            writer.writerow([str(img_path), label])\n",
    "\n",
    "# Save data to CSV files\n",
    "save_to_csv(train_data, os.path.join(output_dir, \"m4_synthez_train.csv\"))\n",
    "save_to_csv(val_data, os.path.join(output_dir, \"m4_synthez_val.csv\"))\n",
    "save_to_csv(test_data, os.path.join(output_dir, \"m4_synthez_test.csv\"))\n",
    "\n",
    "print(\"CSV files created successfully!\")\n"
   ]
  },
  {
   "cell_type": "code",
   "execution_count": 25,
   "id": "3322cc4d",
   "metadata": {},
   "outputs": [
    {
     "data": {
      "text/html": [
       "<div>\n",
       "<style scoped>\n",
       "    .dataframe tbody tr th:only-of-type {\n",
       "        vertical-align: middle;\n",
       "    }\n",
       "\n",
       "    .dataframe tbody tr th {\n",
       "        vertical-align: top;\n",
       "    }\n",
       "\n",
       "    .dataframe thead th {\n",
       "        text-align: right;\n",
       "    }\n",
       "</style>\n",
       "<table border=\"1\" class=\"dataframe\">\n",
       "  <thead>\n",
       "    <tr style=\"text-align: right;\">\n",
       "      <th></th>\n",
       "      <th>fname</th>\n",
       "      <th>label</th>\n",
       "    </tr>\n",
       "  </thead>\n",
       "  <tbody>\n",
       "    <tr>\n",
       "      <th>0</th>\n",
       "      <td>/mnt/8TB/ml_projects_yeldar/MaskSynthez/M4_cle...</td>\n",
       "      <td>0</td>\n",
       "    </tr>\n",
       "    <tr>\n",
       "      <th>1</th>\n",
       "      <td>/mnt/8TB/ml_projects_yeldar/MaskSynthez/M4_cle...</td>\n",
       "      <td>0</td>\n",
       "    </tr>\n",
       "    <tr>\n",
       "      <th>2</th>\n",
       "      <td>/mnt/8TB/ml_projects_yeldar/MaskSynthez/M4_cle...</td>\n",
       "      <td>0</td>\n",
       "    </tr>\n",
       "    <tr>\n",
       "      <th>3</th>\n",
       "      <td>/mnt/8TB/ml_projects_yeldar/MaskSynthez/M4_cle...</td>\n",
       "      <td>0</td>\n",
       "    </tr>\n",
       "    <tr>\n",
       "      <th>4</th>\n",
       "      <td>/mnt/8TB/ml_projects_yeldar/MaskSynthez/M4_cle...</td>\n",
       "      <td>0</td>\n",
       "    </tr>\n",
       "    <tr>\n",
       "      <th>...</th>\n",
       "      <td>...</td>\n",
       "      <td>...</td>\n",
       "    </tr>\n",
       "    <tr>\n",
       "      <th>34975</th>\n",
       "      <td>/mnt/8TB/ml_projects_yeldar/MaskSynthez/M4_cle...</td>\n",
       "      <td>0</td>\n",
       "    </tr>\n",
       "    <tr>\n",
       "      <th>34976</th>\n",
       "      <td>/mnt/8TB/ml_projects_yeldar/MaskSynthez/M4_cle...</td>\n",
       "      <td>0</td>\n",
       "    </tr>\n",
       "    <tr>\n",
       "      <th>34977</th>\n",
       "      <td>/mnt/8TB/ml_projects_yeldar/MaskSynthez/M4_cle...</td>\n",
       "      <td>0</td>\n",
       "    </tr>\n",
       "    <tr>\n",
       "      <th>34978</th>\n",
       "      <td>/mnt/8TB/ml_projects_yeldar/MaskSynthez/M4_cle...</td>\n",
       "      <td>0</td>\n",
       "    </tr>\n",
       "    <tr>\n",
       "      <th>34979</th>\n",
       "      <td>/mnt/8TB/ml_projects_yeldar/MaskSynthez/M4_cle...</td>\n",
       "      <td>0</td>\n",
       "    </tr>\n",
       "  </tbody>\n",
       "</table>\n",
       "<p>34980 rows × 2 columns</p>\n",
       "</div>"
      ],
      "text/plain": [
       "                                                   fname  label\n",
       "0      /mnt/8TB/ml_projects_yeldar/MaskSynthez/M4_cle...      0\n",
       "1      /mnt/8TB/ml_projects_yeldar/MaskSynthez/M4_cle...      0\n",
       "2      /mnt/8TB/ml_projects_yeldar/MaskSynthez/M4_cle...      0\n",
       "3      /mnt/8TB/ml_projects_yeldar/MaskSynthez/M4_cle...      0\n",
       "4      /mnt/8TB/ml_projects_yeldar/MaskSynthez/M4_cle...      0\n",
       "...                                                  ...    ...\n",
       "34975  /mnt/8TB/ml_projects_yeldar/MaskSynthez/M4_cle...      0\n",
       "34976  /mnt/8TB/ml_projects_yeldar/MaskSynthez/M4_cle...      0\n",
       "34977  /mnt/8TB/ml_projects_yeldar/MaskSynthez/M4_cle...      0\n",
       "34978  /mnt/8TB/ml_projects_yeldar/MaskSynthez/M4_cle...      0\n",
       "34979  /mnt/8TB/ml_projects_yeldar/MaskSynthez/M4_cle...      0\n",
       "\n",
       "[34980 rows x 2 columns]"
      ]
     },
     "execution_count": 25,
     "metadata": {},
     "output_type": "execute_result"
    }
   ],
   "source": [
    "csv_name = \"./data/m4_synthesized_masks_clean.csv\"\n",
    "df = pd.read_csv(csv_name)\n",
    "df.rename(columns={\"gen_path\":\"fname\"}, inplace=True)\n",
    "df['label'] = [0]*len(df)\n",
    "df.drop(columns=[\"src_path\", \"ref_path\", \"gen_label\"], inplace=True)\n",
    "df['fname'] = df['fname'].apply(lambda x: x.replace(\"M4_clean\", \"M4_clean_cropped\")) \n",
    "df"
   ]
  },
  {
   "cell_type": "code",
   "execution_count": 26,
   "id": "82994cbf",
   "metadata": {},
   "outputs": [
    {
     "data": {
      "text/html": [
       "<div>\n",
       "<style scoped>\n",
       "    .dataframe tbody tr th:only-of-type {\n",
       "        vertical-align: middle;\n",
       "    }\n",
       "\n",
       "    .dataframe tbody tr th {\n",
       "        vertical-align: top;\n",
       "    }\n",
       "\n",
       "    .dataframe thead th {\n",
       "        text-align: right;\n",
       "    }\n",
       "</style>\n",
       "<table border=\"1\" class=\"dataframe\">\n",
       "  <thead>\n",
       "    <tr style=\"text-align: right;\">\n",
       "      <th></th>\n",
       "      <th>fname</th>\n",
       "      <th>label</th>\n",
       "    </tr>\n",
       "  </thead>\n",
       "  <tbody>\n",
       "    <tr>\n",
       "      <th>19685</th>\n",
       "      <td>/mnt/8TB/ml_projects_yeldar/MaskSynthez/M4_cle...</td>\n",
       "      <td>0</td>\n",
       "    </tr>\n",
       "    <tr>\n",
       "      <th>30034</th>\n",
       "      <td>/mnt/8TB/ml_projects_yeldar/MaskSynthez/M4_cle...</td>\n",
       "      <td>0</td>\n",
       "    </tr>\n",
       "    <tr>\n",
       "      <th>29416</th>\n",
       "      <td>/mnt/8TB/ml_projects_yeldar/MaskSynthez/M4_cle...</td>\n",
       "      <td>0</td>\n",
       "    </tr>\n",
       "    <tr>\n",
       "      <th>22040</th>\n",
       "      <td>/mnt/8TB/ml_projects_yeldar/MaskSynthez/M4_cle...</td>\n",
       "      <td>0</td>\n",
       "    </tr>\n",
       "    <tr>\n",
       "      <th>10030</th>\n",
       "      <td>/mnt/8TB/ml_projects_yeldar/MaskSynthez/M4_cle...</td>\n",
       "      <td>0</td>\n",
       "    </tr>\n",
       "    <tr>\n",
       "      <th>...</th>\n",
       "      <td>...</td>\n",
       "      <td>...</td>\n",
       "    </tr>\n",
       "    <tr>\n",
       "      <th>16850</th>\n",
       "      <td>/mnt/8TB/ml_projects_yeldar/MaskSynthez/M4_cle...</td>\n",
       "      <td>0</td>\n",
       "    </tr>\n",
       "    <tr>\n",
       "      <th>6265</th>\n",
       "      <td>/mnt/8TB/ml_projects_yeldar/MaskSynthez/M4_cle...</td>\n",
       "      <td>0</td>\n",
       "    </tr>\n",
       "    <tr>\n",
       "      <th>11284</th>\n",
       "      <td>/mnt/8TB/ml_projects_yeldar/MaskSynthez/M4_cle...</td>\n",
       "      <td>0</td>\n",
       "    </tr>\n",
       "    <tr>\n",
       "      <th>860</th>\n",
       "      <td>/mnt/8TB/ml_projects_yeldar/MaskSynthez/M4_cle...</td>\n",
       "      <td>0</td>\n",
       "    </tr>\n",
       "    <tr>\n",
       "      <th>15795</th>\n",
       "      <td>/mnt/8TB/ml_projects_yeldar/MaskSynthez/M4_cle...</td>\n",
       "      <td>0</td>\n",
       "    </tr>\n",
       "  </tbody>\n",
       "</table>\n",
       "<p>31482 rows × 2 columns</p>\n",
       "</div>"
      ],
      "text/plain": [
       "                                                   fname  label\n",
       "19685  /mnt/8TB/ml_projects_yeldar/MaskSynthez/M4_cle...      0\n",
       "30034  /mnt/8TB/ml_projects_yeldar/MaskSynthez/M4_cle...      0\n",
       "29416  /mnt/8TB/ml_projects_yeldar/MaskSynthez/M4_cle...      0\n",
       "22040  /mnt/8TB/ml_projects_yeldar/MaskSynthez/M4_cle...      0\n",
       "10030  /mnt/8TB/ml_projects_yeldar/MaskSynthez/M4_cle...      0\n",
       "...                                                  ...    ...\n",
       "16850  /mnt/8TB/ml_projects_yeldar/MaskSynthez/M4_cle...      0\n",
       "6265   /mnt/8TB/ml_projects_yeldar/MaskSynthez/M4_cle...      0\n",
       "11284  /mnt/8TB/ml_projects_yeldar/MaskSynthez/M4_cle...      0\n",
       "860    /mnt/8TB/ml_projects_yeldar/MaskSynthez/M4_cle...      0\n",
       "15795  /mnt/8TB/ml_projects_yeldar/MaskSynthez/M4_cle...      0\n",
       "\n",
       "[31482 rows x 2 columns]"
      ]
     },
     "execution_count": 26,
     "metadata": {},
     "output_type": "execute_result"
    }
   ],
   "source": [
    "from sklearn.model_selection import train_test_split\n",
    "\n",
    "train_df, test_df = train_test_split(df, test_size=0.1, random_state=42)\n",
    "train_df"
   ]
  },
  {
   "cell_type": "code",
   "execution_count": 30,
   "id": "35849454",
   "metadata": {},
   "outputs": [
    {
     "data": {
      "text/html": [
       "<div>\n",
       "<style scoped>\n",
       "    .dataframe tbody tr th:only-of-type {\n",
       "        vertical-align: middle;\n",
       "    }\n",
       "\n",
       "    .dataframe tbody tr th {\n",
       "        vertical-align: top;\n",
       "    }\n",
       "\n",
       "    .dataframe thead th {\n",
       "        text-align: right;\n",
       "    }\n",
       "</style>\n",
       "<table border=\"1\" class=\"dataframe\">\n",
       "  <thead>\n",
       "    <tr style=\"text-align: right;\">\n",
       "      <th></th>\n",
       "      <th>fname</th>\n",
       "      <th>label</th>\n",
       "    </tr>\n",
       "  </thead>\n",
       "  <tbody>\n",
       "    <tr>\n",
       "      <th>26351</th>\n",
       "      <td>/mnt/8TB/ml_projects_yeldar/MaskSynthez/M4_cle...</td>\n",
       "      <td>0</td>\n",
       "    </tr>\n",
       "    <tr>\n",
       "      <th>32592</th>\n",
       "      <td>/mnt/8TB/ml_projects_yeldar/MaskSynthez/M4_cle...</td>\n",
       "      <td>0</td>\n",
       "    </tr>\n",
       "    <tr>\n",
       "      <th>23957</th>\n",
       "      <td>/mnt/8TB/ml_projects_yeldar/MaskSynthez/M4_cle...</td>\n",
       "      <td>0</td>\n",
       "    </tr>\n",
       "    <tr>\n",
       "      <th>23526</th>\n",
       "      <td>/mnt/8TB/ml_projects_yeldar/MaskSynthez/M4_cle...</td>\n",
       "      <td>0</td>\n",
       "    </tr>\n",
       "    <tr>\n",
       "      <th>12353</th>\n",
       "      <td>/mnt/8TB/ml_projects_yeldar/MaskSynthez/M4_cle...</td>\n",
       "      <td>0</td>\n",
       "    </tr>\n",
       "    <tr>\n",
       "      <th>...</th>\n",
       "      <td>...</td>\n",
       "      <td>...</td>\n",
       "    </tr>\n",
       "    <tr>\n",
       "      <th>4410</th>\n",
       "      <td>/mnt/8TB/ml_projects_yeldar/MaskSynthez/M4_cle...</td>\n",
       "      <td>0</td>\n",
       "    </tr>\n",
       "    <tr>\n",
       "      <th>29634</th>\n",
       "      <td>/mnt/8TB/ml_projects_yeldar/MaskSynthez/M4_cle...</td>\n",
       "      <td>0</td>\n",
       "    </tr>\n",
       "    <tr>\n",
       "      <th>20958</th>\n",
       "      <td>/mnt/8TB/ml_projects_yeldar/MaskSynthez/M4_cle...</td>\n",
       "      <td>0</td>\n",
       "    </tr>\n",
       "    <tr>\n",
       "      <th>33477</th>\n",
       "      <td>/mnt/8TB/ml_projects_yeldar/MaskSynthez/M4_cle...</td>\n",
       "      <td>0</td>\n",
       "    </tr>\n",
       "    <tr>\n",
       "      <th>1570</th>\n",
       "      <td>/mnt/8TB/ml_projects_yeldar/MaskSynthez/M4_cle...</td>\n",
       "      <td>0</td>\n",
       "    </tr>\n",
       "  </tbody>\n",
       "</table>\n",
       "<p>3498 rows × 2 columns</p>\n",
       "</div>"
      ],
      "text/plain": [
       "                                                   fname  label\n",
       "26351  /mnt/8TB/ml_projects_yeldar/MaskSynthez/M4_cle...      0\n",
       "32592  /mnt/8TB/ml_projects_yeldar/MaskSynthez/M4_cle...      0\n",
       "23957  /mnt/8TB/ml_projects_yeldar/MaskSynthez/M4_cle...      0\n",
       "23526  /mnt/8TB/ml_projects_yeldar/MaskSynthez/M4_cle...      0\n",
       "12353  /mnt/8TB/ml_projects_yeldar/MaskSynthez/M4_cle...      0\n",
       "...                                                  ...    ...\n",
       "4410   /mnt/8TB/ml_projects_yeldar/MaskSynthez/M4_cle...      0\n",
       "29634  /mnt/8TB/ml_projects_yeldar/MaskSynthez/M4_cle...      0\n",
       "20958  /mnt/8TB/ml_projects_yeldar/MaskSynthez/M4_cle...      0\n",
       "33477  /mnt/8TB/ml_projects_yeldar/MaskSynthez/M4_cle...      0\n",
       "1570   /mnt/8TB/ml_projects_yeldar/MaskSynthez/M4_cle...      0\n",
       "\n",
       "[3498 rows x 2 columns]"
      ]
     },
     "execution_count": 30,
     "metadata": {},
     "output_type": "execute_result"
    }
   ],
   "source": [
    "test_df"
   ]
  },
  {
   "cell_type": "code",
   "execution_count": 29,
   "id": "067279fc",
   "metadata": {},
   "outputs": [
    {
     "data": {
      "text/html": [
       "<div>\n",
       "<style scoped>\n",
       "    .dataframe tbody tr th:only-of-type {\n",
       "        vertical-align: middle;\n",
       "    }\n",
       "\n",
       "    .dataframe tbody tr th {\n",
       "        vertical-align: top;\n",
       "    }\n",
       "\n",
       "    .dataframe thead th {\n",
       "        text-align: right;\n",
       "    }\n",
       "</style>\n",
       "<table border=\"1\" class=\"dataframe\">\n",
       "  <thead>\n",
       "    <tr style=\"text-align: right;\">\n",
       "      <th></th>\n",
       "      <th>fname</th>\n",
       "      <th>label</th>\n",
       "    </tr>\n",
       "  </thead>\n",
       "  <tbody>\n",
       "    <tr>\n",
       "      <th>0</th>\n",
       "      <td>/mnt/8TB/ml_projects_yeldar/patchnet/M1_3_4_va...</td>\n",
       "      <td>1.0</td>\n",
       "    </tr>\n",
       "    <tr>\n",
       "      <th>1</th>\n",
       "      <td>/mnt/8TB/ml_projects_yeldar/patchnet/M1_3_4_va...</td>\n",
       "      <td>1.0</td>\n",
       "    </tr>\n",
       "    <tr>\n",
       "      <th>2</th>\n",
       "      <td>/mnt/8TB/ml_projects_yeldar/patchnet/M1_3_4_va...</td>\n",
       "      <td>1.0</td>\n",
       "    </tr>\n",
       "    <tr>\n",
       "      <th>3</th>\n",
       "      <td>/mnt/8TB/ml_projects_yeldar/patchnet/M1_3_4_va...</td>\n",
       "      <td>1.0</td>\n",
       "    </tr>\n",
       "    <tr>\n",
       "      <th>4</th>\n",
       "      <td>/mnt/8TB/ml_projects_yeldar/patchnet/M1_3_4_va...</td>\n",
       "      <td>1.0</td>\n",
       "    </tr>\n",
       "    <tr>\n",
       "      <th>...</th>\n",
       "      <td>...</td>\n",
       "      <td>...</td>\n",
       "    </tr>\n",
       "    <tr>\n",
       "      <th>18210</th>\n",
       "      <td>/mnt/8TB/ml_projects_yeldar/cropped_youtube_in...</td>\n",
       "      <td>0.0</td>\n",
       "    </tr>\n",
       "    <tr>\n",
       "      <th>18211</th>\n",
       "      <td>/mnt/8TB/ml_projects_yeldar/cropped_youtube_in...</td>\n",
       "      <td>0.0</td>\n",
       "    </tr>\n",
       "    <tr>\n",
       "      <th>18212</th>\n",
       "      <td>/mnt/8TB/ml_projects_yeldar/cropped_youtube_in...</td>\n",
       "      <td>0.0</td>\n",
       "    </tr>\n",
       "    <tr>\n",
       "      <th>18213</th>\n",
       "      <td>/mnt/8TB/ml_projects_yeldar/cropped_youtube_in...</td>\n",
       "      <td>0.0</td>\n",
       "    </tr>\n",
       "    <tr>\n",
       "      <th>18214</th>\n",
       "      <td>/mnt/8TB/ml_projects_yeldar/cropped_youtube_in...</td>\n",
       "      <td>0.0</td>\n",
       "    </tr>\n",
       "  </tbody>\n",
       "</table>\n",
       "<p>18215 rows × 2 columns</p>\n",
       "</div>"
      ],
      "text/plain": [
       "                                                   fname  label\n",
       "0      /mnt/8TB/ml_projects_yeldar/patchnet/M1_3_4_va...    1.0\n",
       "1      /mnt/8TB/ml_projects_yeldar/patchnet/M1_3_4_va...    1.0\n",
       "2      /mnt/8TB/ml_projects_yeldar/patchnet/M1_3_4_va...    1.0\n",
       "3      /mnt/8TB/ml_projects_yeldar/patchnet/M1_3_4_va...    1.0\n",
       "4      /mnt/8TB/ml_projects_yeldar/patchnet/M1_3_4_va...    1.0\n",
       "...                                                  ...    ...\n",
       "18210  /mnt/8TB/ml_projects_yeldar/cropped_youtube_in...    0.0\n",
       "18211  /mnt/8TB/ml_projects_yeldar/cropped_youtube_in...    0.0\n",
       "18212  /mnt/8TB/ml_projects_yeldar/cropped_youtube_in...    0.0\n",
       "18213  /mnt/8TB/ml_projects_yeldar/cropped_youtube_in...    0.0\n",
       "18214  /mnt/8TB/ml_projects_yeldar/cropped_youtube_in...    0.0\n",
       "\n",
       "[18215 rows x 2 columns]"
      ]
     },
     "execution_count": 29,
     "metadata": {},
     "output_type": "execute_result"
    }
   ],
   "source": [
    "dType = 'val'\n",
    "csv_name2 = f\"data/{dType}_list13.csv\"\n",
    "df1 = pd.read_csv(csv_name2)\n",
    "df1"
   ]
  },
  {
   "cell_type": "code",
   "execution_count": 32,
   "id": "f07c773d",
   "metadata": {},
   "outputs": [
    {
     "data": {
      "text/html": [
       "<div>\n",
       "<style scoped>\n",
       "    .dataframe tbody tr th:only-of-type {\n",
       "        vertical-align: middle;\n",
       "    }\n",
       "\n",
       "    .dataframe tbody tr th {\n",
       "        vertical-align: top;\n",
       "    }\n",
       "\n",
       "    .dataframe thead th {\n",
       "        text-align: right;\n",
       "    }\n",
       "</style>\n",
       "<table border=\"1\" class=\"dataframe\">\n",
       "  <thead>\n",
       "    <tr style=\"text-align: right;\">\n",
       "      <th></th>\n",
       "      <th>fname</th>\n",
       "      <th>label</th>\n",
       "    </tr>\n",
       "  </thead>\n",
       "  <tbody>\n",
       "    <tr>\n",
       "      <th>0</th>\n",
       "      <td>/mnt/8TB/ml_projects_yeldar/patchnet/M1_3_4_va...</td>\n",
       "      <td>1.0</td>\n",
       "    </tr>\n",
       "    <tr>\n",
       "      <th>1</th>\n",
       "      <td>/mnt/8TB/ml_projects_yeldar/patchnet/M1_3_4_va...</td>\n",
       "      <td>1.0</td>\n",
       "    </tr>\n",
       "    <tr>\n",
       "      <th>2</th>\n",
       "      <td>/mnt/8TB/ml_projects_yeldar/patchnet/M1_3_4_va...</td>\n",
       "      <td>1.0</td>\n",
       "    </tr>\n",
       "    <tr>\n",
       "      <th>3</th>\n",
       "      <td>/mnt/8TB/ml_projects_yeldar/patchnet/M1_3_4_va...</td>\n",
       "      <td>1.0</td>\n",
       "    </tr>\n",
       "    <tr>\n",
       "      <th>4</th>\n",
       "      <td>/mnt/8TB/ml_projects_yeldar/patchnet/M1_3_4_va...</td>\n",
       "      <td>1.0</td>\n",
       "    </tr>\n",
       "    <tr>\n",
       "      <th>...</th>\n",
       "      <td>...</td>\n",
       "      <td>...</td>\n",
       "    </tr>\n",
       "    <tr>\n",
       "      <th>21708</th>\n",
       "      <td>/mnt/8TB/ml_projects_yeldar/MaskSynthez/M4_cle...</td>\n",
       "      <td>0.0</td>\n",
       "    </tr>\n",
       "    <tr>\n",
       "      <th>21709</th>\n",
       "      <td>/mnt/8TB/ml_projects_yeldar/MaskSynthez/M4_cle...</td>\n",
       "      <td>0.0</td>\n",
       "    </tr>\n",
       "    <tr>\n",
       "      <th>21710</th>\n",
       "      <td>/mnt/8TB/ml_projects_yeldar/MaskSynthez/M4_cle...</td>\n",
       "      <td>0.0</td>\n",
       "    </tr>\n",
       "    <tr>\n",
       "      <th>21711</th>\n",
       "      <td>/mnt/8TB/ml_projects_yeldar/MaskSynthez/M4_cle...</td>\n",
       "      <td>0.0</td>\n",
       "    </tr>\n",
       "    <tr>\n",
       "      <th>21712</th>\n",
       "      <td>/mnt/8TB/ml_projects_yeldar/MaskSynthez/M4_cle...</td>\n",
       "      <td>0.0</td>\n",
       "    </tr>\n",
       "  </tbody>\n",
       "</table>\n",
       "<p>21713 rows × 2 columns</p>\n",
       "</div>"
      ],
      "text/plain": [
       "                                                   fname  label\n",
       "0      /mnt/8TB/ml_projects_yeldar/patchnet/M1_3_4_va...    1.0\n",
       "1      /mnt/8TB/ml_projects_yeldar/patchnet/M1_3_4_va...    1.0\n",
       "2      /mnt/8TB/ml_projects_yeldar/patchnet/M1_3_4_va...    1.0\n",
       "3      /mnt/8TB/ml_projects_yeldar/patchnet/M1_3_4_va...    1.0\n",
       "4      /mnt/8TB/ml_projects_yeldar/patchnet/M1_3_4_va...    1.0\n",
       "...                                                  ...    ...\n",
       "21708  /mnt/8TB/ml_projects_yeldar/MaskSynthez/M4_cle...    0.0\n",
       "21709  /mnt/8TB/ml_projects_yeldar/MaskSynthez/M4_cle...    0.0\n",
       "21710  /mnt/8TB/ml_projects_yeldar/MaskSynthez/M4_cle...    0.0\n",
       "21711  /mnt/8TB/ml_projects_yeldar/MaskSynthez/M4_cle...    0.0\n",
       "21712  /mnt/8TB/ml_projects_yeldar/MaskSynthez/M4_cle...    0.0\n",
       "\n",
       "[21713 rows x 2 columns]"
      ]
     },
     "execution_count": 32,
     "metadata": {},
     "output_type": "execute_result"
    }
   ],
   "source": [
    "csv_name3 = f\"data/{dType}_list15.csv\"\n",
    "df1 = pd.concat([df1, test_df], ignore_index=True)\n",
    "df1['fname'] = df1['fname'].apply(lambda x: x.replace(\"/media/user/685b3289-4051-4530-9827-ef770d2e3f28\", \"/mnt/8TB\"))\n",
    "df1.to_csv(csv_name3, index=False)\n",
    "df1"
   ]
  },
  {
   "cell_type": "code",
   "execution_count": 24,
   "id": "c5e75468",
   "metadata": {},
   "outputs": [
    {
     "data": {
      "text/html": [
       "<div>\n",
       "<style scoped>\n",
       "    .dataframe tbody tr th:only-of-type {\n",
       "        vertical-align: middle;\n",
       "    }\n",
       "\n",
       "    .dataframe tbody tr th {\n",
       "        vertical-align: top;\n",
       "    }\n",
       "\n",
       "    .dataframe thead th {\n",
       "        text-align: right;\n",
       "    }\n",
       "</style>\n",
       "<table border=\"1\" class=\"dataframe\">\n",
       "  <thead>\n",
       "    <tr style=\"text-align: right;\">\n",
       "      <th></th>\n",
       "      <th>fname</th>\n",
       "      <th>label</th>\n",
       "    </tr>\n",
       "  </thead>\n",
       "  <tbody>\n",
       "    <tr>\n",
       "      <th>0</th>\n",
       "      <td>/mnt/8TB/ml_projects_yeldar/patchnet/M1_3_4/li...</td>\n",
       "      <td>1.0</td>\n",
       "    </tr>\n",
       "    <tr>\n",
       "      <th>1</th>\n",
       "      <td>/mnt/8TB/ml_projects_yeldar/patchnet/M1_3_4/li...</td>\n",
       "      <td>1.0</td>\n",
       "    </tr>\n",
       "    <tr>\n",
       "      <th>2</th>\n",
       "      <td>/mnt/8TB/ml_projects_yeldar/patchnet/M1_3_4/li...</td>\n",
       "      <td>1.0</td>\n",
       "    </tr>\n",
       "    <tr>\n",
       "      <th>3</th>\n",
       "      <td>/mnt/8TB/ml_projects_yeldar/patchnet/M1_3_4/li...</td>\n",
       "      <td>1.0</td>\n",
       "    </tr>\n",
       "    <tr>\n",
       "      <th>4</th>\n",
       "      <td>/mnt/8TB/ml_projects_yeldar/patchnet/M1_3_4/li...</td>\n",
       "      <td>1.0</td>\n",
       "    </tr>\n",
       "    <tr>\n",
       "      <th>...</th>\n",
       "      <td>...</td>\n",
       "      <td>...</td>\n",
       "    </tr>\n",
       "    <tr>\n",
       "      <th>184252</th>\n",
       "      <td>/mnt/8TB/ml_projects_yeldar/MaskSynthez/M4_cle...</td>\n",
       "      <td>0.0</td>\n",
       "    </tr>\n",
       "    <tr>\n",
       "      <th>184253</th>\n",
       "      <td>/mnt/8TB/ml_projects_yeldar/MaskSynthez/M4_cle...</td>\n",
       "      <td>0.0</td>\n",
       "    </tr>\n",
       "    <tr>\n",
       "      <th>184254</th>\n",
       "      <td>/mnt/8TB/ml_projects_yeldar/MaskSynthez/M4_cle...</td>\n",
       "      <td>0.0</td>\n",
       "    </tr>\n",
       "    <tr>\n",
       "      <th>184255</th>\n",
       "      <td>/mnt/8TB/ml_projects_yeldar/MaskSynthez/M4_cle...</td>\n",
       "      <td>0.0</td>\n",
       "    </tr>\n",
       "    <tr>\n",
       "      <th>184256</th>\n",
       "      <td>/mnt/8TB/ml_projects_yeldar/MaskSynthez/M4_cle...</td>\n",
       "      <td>0.0</td>\n",
       "    </tr>\n",
       "  </tbody>\n",
       "</table>\n",
       "<p>184257 rows × 2 columns</p>\n",
       "</div>"
      ],
      "text/plain": [
       "                                                    fname  label\n",
       "0       /mnt/8TB/ml_projects_yeldar/patchnet/M1_3_4/li...    1.0\n",
       "1       /mnt/8TB/ml_projects_yeldar/patchnet/M1_3_4/li...    1.0\n",
       "2       /mnt/8TB/ml_projects_yeldar/patchnet/M1_3_4/li...    1.0\n",
       "3       /mnt/8TB/ml_projects_yeldar/patchnet/M1_3_4/li...    1.0\n",
       "4       /mnt/8TB/ml_projects_yeldar/patchnet/M1_3_4/li...    1.0\n",
       "...                                                   ...    ...\n",
       "184252  /mnt/8TB/ml_projects_yeldar/MaskSynthez/M4_cle...    0.0\n",
       "184253  /mnt/8TB/ml_projects_yeldar/MaskSynthez/M4_cle...    0.0\n",
       "184254  /mnt/8TB/ml_projects_yeldar/MaskSynthez/M4_cle...    0.0\n",
       "184255  /mnt/8TB/ml_projects_yeldar/MaskSynthez/M4_cle...    0.0\n",
       "184256  /mnt/8TB/ml_projects_yeldar/MaskSynthez/M4_cle...    0.0\n",
       "\n",
       "[184257 rows x 2 columns]"
      ]
     },
     "execution_count": 24,
     "metadata": {},
     "output_type": "execute_result"
    }
   ],
   "source": [
    "df1"
   ]
  },
  {
   "cell_type": "code",
   "execution_count": null,
   "id": "d8e75da5",
   "metadata": {},
   "outputs": [],
   "source": [
    "dType = 'train'\n",
    "csv_name2 = f\"data/{dType}_list14.csv\"\n",
    "df1 = pd.read_csv(csv_name2)\n",
    "df1"
   ]
  },
  {
   "cell_type": "code",
   "execution_count": null,
   "id": "dce227ee",
   "metadata": {},
   "outputs": [],
   "source": [
    "dff = pd.read_csv(csv_name2, delimiter=\",\", header=None).drop([0], axis=0)\n",
    "dff[0] = [x.replace(\"/mnt/8TB/ml_projects_yeldar/patchnet\", \"/app/data_dir\") for x in dff[0]]\n",
    "dff[0] = [x.replace(\"/mnt/8TB/ml_projects_yeldar/MaskSynthez\", \"/app/data_dir\") for x in dff[0]]\n",
    "dff[0] = [x.replace(\"/mnt/8TB/ml_projects_yeldar/cropped_youtube_insta_tiktok\", \"/app/data_dir/mask_test\") for x in dff[0]]\n",
    "\n",
    "# dff[0] = [1]*len(dff)\n",
    "dff"
   ]
  },
  {
   "cell_type": "code",
   "execution_count": null,
   "id": "33003032",
   "metadata": {},
   "outputs": [],
   "source": [
    "df1.to_csv(\"data/test_list14.csv\", index=False)"
   ]
  },
  {
   "cell_type": "markdown",
   "id": "fd6a954f",
   "metadata": {},
   "source": [
    "## Parsing mfkin csvs"
   ]
  },
  {
   "cell_type": "code",
   "execution_count": null,
   "id": "e305a12a",
   "metadata": {},
   "outputs": [],
   "source": [
    "tp = 'train'\n",
    "train_csv = f'datasets/{tp}.csv'\n",
    "df = pd.read_csv(train_csv)\n",
    "df['fnames'] = df['image_name'].apply(lambda x: os.path.basename(x))\n",
    "df = df.drop_duplicates(subset=['fnames'], ignore_index=True)\n",
    "dest_paths = []\n",
    "dest_labels = []\n",
    "source_dir = \"/mnt/8TB/ml_projects_yeldar/PATCHNET_DATASET\"\n",
    "# for tp in ['train', 'test', 'val']:\n",
    "for cp in ['live', 'mask']:\n",
    "    dirr = f\"{source_dir}/{tp}/{cp}\"\n",
    "    img_names = os.listdir(dirr)\n",
    "    for i in tqdm(range(len(img_names))):\n",
    "        name = img_names[i]\n",
    "        found = df.index[df['fnames'] == name].tolist()\n",
    "        try:\n",
    "            if found:\n",
    "                dest_paths.append(os.path.join(dirr, name))\n",
    "                dest_labels.append(int(df['label'].iloc[found[0]]))\n",
    "        except:\n",
    "            print(found[0])\n",
    "df_dest = pd.DataFrame({\"image_name\":dest_paths, \"label\": dest_labels})\n",
    "df_dest.to_csv(f'{tp}.csv', index=False)"
   ]
  },
  {
   "cell_type": "code",
   "execution_count": null,
   "id": "860c810d",
   "metadata": {},
   "outputs": [],
   "source": [
    "tp = 'test'\n",
    "train_csv = f'datasets/{tp}.csv'\n",
    "df = pd.read_csv(train_csv)\n",
    "df['fnames'] = df['image_name_y'].apply(lambda x: os.path.basename(x))\n",
    "df = df.drop_duplicates(subset=['fnames'], ignore_index=True)\n",
    "dest_paths = []\n",
    "dest_labels = []\n",
    "source_dir = \"/mnt/8TB/ml_projects_yeldar/PATCHNET_DATASET\"\n",
    "# for tp in ['train', 'test', 'val']:\n",
    "for cp in ['live', 'mask']:\n",
    "    dirr = f\"{source_dir}/{tp}/{cp}\"\n",
    "    img_names = os.listdir(dirr)\n",
    "    for i in tqdm(range(len(img_names))):\n",
    "        name = img_names[i]\n",
    "        found = df.index[df['fnames'] == name].tolist()\n",
    "        try:\n",
    "            if found:\n",
    "                dest_paths.append(os.path.join(dirr, name))\n",
    "                dest_labels.append(int(df['label_y'].iloc[found[0]]))\n",
    "        except:\n",
    "            print(found[0])"
   ]
  },
  {
   "cell_type": "code",
   "execution_count": null,
   "id": "85482721",
   "metadata": {},
   "outputs": [],
   "source": [
    "df_dest = pd.DataFrame({\"image_name\":dest_paths, \"label\": dest_labels})\n",
    "df_dest.to_csv(f'{tp}.csv', index=False)"
   ]
  },
  {
   "cell_type": "code",
   "execution_count": null,
   "id": "26eae465",
   "metadata": {},
   "outputs": [],
   "source": [
    "import pandas as pd"
   ]
  },
  {
   "cell_type": "code",
   "execution_count": null,
   "id": "552bfee8",
   "metadata": {},
   "outputs": [],
   "source": [
    "df = pd.read_csv('test.csv')\n",
    "df"
   ]
  }
 ],
 "metadata": {
  "kernelspec": {
   "display_name": "Python 3",
   "language": "python",
   "name": "python3"
  },
  "language_info": {
   "codemirror_mode": {
    "name": "ipython",
    "version": 3
   },
   "file_extension": ".py",
   "mimetype": "text/x-python",
   "name": "python",
   "nbconvert_exporter": "python",
   "pygments_lexer": "ipython3",
   "version": "3.8.18"
  }
 },
 "nbformat": 4,
 "nbformat_minor": 5
}
