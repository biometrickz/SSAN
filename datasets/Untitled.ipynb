{
 "cells": [
  {
   "cell_type": "code",
   "execution_count": 1,
   "id": "6680d6e1-d4a3-45da-b138-252c1803b830",
   "metadata": {},
   "outputs": [],
   "source": [
    "import os\n",
    "import pandas as pd"
   ]
  },
  {
   "cell_type": "code",
   "execution_count": 8,
   "id": "b50f6d12-156a-44c7-b2a7-7664e393588d",
   "metadata": {},
   "outputs": [],
   "source": [
    "def gen_csv(dirr):\n",
    "    train_files = os.listdir(dirr)\n",
    "    df = pd.DataFrame(columns=[\"label\", \"fname\"])\n",
    "    df[\"fname\"] = train_files\n",
    "    if 'live' in dirr:\n",
    "        df[\"label\"] = 0\n",
    "    else:\n",
    "        df[\"label\"] = 1\n",
    "    return df"
   ]
  },
  {
   "cell_type": "code",
   "execution_count": 13,
   "id": "014309c0-9800-42e5-849b-5e5ce36af310",
   "metadata": {},
   "outputs": [],
   "source": [
    "dirr1 = \"train/live\"\n",
    "dirr2 = \"train/spoof\"\n",
    "df = pd.concat([gen_csv(dirr1), gen_csv(dirr2)])\n",
    "df.to_csv(\"train_list.csv\")"
   ]
  },
  {
   "cell_type": "code",
   "execution_count": 12,
   "id": "28be4f4a-f662-4213-80f0-d1773bb561c6",
   "metadata": {},
   "outputs": [
    {
     "data": {
      "text/plain": [
       "<bound method Series.unique of 0      frame0vid3_3_09_1.jpg\n",
       "1      frame4vid2_2_05_1.jpg\n",
       "2      frame0vid3_3_10_1.jpg\n",
       "3      frame0vid3_2_10_1.jpg\n",
       "4      frame0vid2_3_06_1.jpg\n",
       "               ...          \n",
       "106    frame0vid1_3_02_4.jpg\n",
       "107    frame0vid1_2_02_4.jpg\n",
       "108    frame0vid1_2_02_5.jpg\n",
       "109    frame0vid1_3_02_5.jpg\n",
       "110    frame0vid1_2_04_3.jpg\n",
       "Name: fname, Length: 225, dtype: object>"
      ]
     },
     "execution_count": 12,
     "metadata": {},
     "output_type": "execute_result"
    }
   ],
   "source": [
    "df['fname'].unique"
   ]
  },
  {
   "cell_type": "code",
   "execution_count": 15,
   "id": "ef215f7c-aa6a-4932-997e-1f47c8d84a52",
   "metadata": {},
   "outputs": [
    {
     "ename": "SyntaxError",
     "evalue": "invalid syntax (2026213668.py, line 1)",
     "output_type": "error",
     "traceback": [
      "\u001b[0;36m  Cell \u001b[0;32mIn[15], line 1\u001b[0;36m\u001b[0m\n\u001b[0;31m    my changes to source code:\u001b[0m\n\u001b[0m       ^\u001b[0m\n\u001b[0;31mSyntaxError\u001b[0m\u001b[0;31m:\u001b[0m invalid syntax\n"
     ]
    }
   ],
   "source": [
    "# my changes to source code:\n",
    "# num_workers in DataLoader= 4 instead of 8 (by suggestion)\n",
    "# explore args.trans(default=p)"
   ]
  },
  {
   "cell_type": "code",
   "execution_count": null,
   "id": "fe31994d-ab7b-44d7-a697-00e156d8d1c5",
   "metadata": {},
   "outputs": [],
   "source": []
  }
 ],
 "metadata": {
  "kernelspec": {
   "display_name": "Python 3 (ipykernel)",
   "language": "python",
   "name": "python3"
  },
  "language_info": {
   "codemirror_mode": {
    "name": "ipython",
    "version": 3
   },
   "file_extension": ".py",
   "mimetype": "text/x-python",
   "name": "python",
   "nbconvert_exporter": "python",
   "pygments_lexer": "ipython3",
   "version": "3.11.5"
  }
 },
 "nbformat": 4,
 "nbformat_minor": 5
}
