{
 "cells": [
  {
   "cell_type": "markdown",
   "metadata": {},
   "source": [
    "# Unpacking Nurma's dataset "
   ]
  },
  {
   "cell_type": "code",
   "execution_count": 1,
   "id": "6680d6e1-d4a3-45da-b138-252c1803b830",
   "metadata": {},
   "outputs": [],
   "source": [
    "import os\n",
    "import pandas as pd"
   ]
  },
  {
   "cell_type": "code",
   "execution_count": 8,
   "id": "b50f6d12-156a-44c7-b2a7-7664e393588d",
   "metadata": {},
   "outputs": [],
   "source": [
    "def gen_csv(dirr):\n",
    "    train_files = os.listdir(dirr)\n",
    "    df = pd.DataFrame(columns=[\"label\", \"fname\"])\n",
    "    df[\"fname\"] = train_files\n",
    "    if 'live' in dirr:\n",
    "        df[\"label\"] = 0\n",
    "    else:\n",
    "        df[\"label\"] = 1\n",
    "    return df"
   ]
  },
  {
   "cell_type": "code",
   "execution_count": 13,
   "id": "014309c0-9800-42e5-849b-5e5ce36af310",
   "metadata": {},
   "outputs": [],
   "source": [
    "dirr1 = \"train/live\"\n",
    "dirr2 = \"train/spoof\"\n",
    "df = pd.concat([gen_csv(dirr1), gen_csv(dirr2)])\n",
    "df.to_csv(\"train_list.csv\")"
   ]
  },
  {
   "cell_type": "code",
   "execution_count": 12,
   "id": "28be4f4a-f662-4213-80f0-d1773bb561c6",
   "metadata": {},
   "outputs": [
    {
     "data": {
      "text/plain": [
       "<bound method Series.unique of 0      frame0vid3_3_09_1.jpg\n",
       "1      frame4vid2_2_05_1.jpg\n",
       "2      frame0vid3_3_10_1.jpg\n",
       "3      frame0vid3_2_10_1.jpg\n",
       "4      frame0vid2_3_06_1.jpg\n",
       "               ...          \n",
       "106    frame0vid1_3_02_4.jpg\n",
       "107    frame0vid1_2_02_4.jpg\n",
       "108    frame0vid1_2_02_5.jpg\n",
       "109    frame0vid1_3_02_5.jpg\n",
       "110    frame0vid1_2_04_3.jpg\n",
       "Name: fname, Length: 225, dtype: object>"
      ]
     },
     "execution_count": 12,
     "metadata": {},
     "output_type": "execute_result"
    }
   ],
   "source": [
    "df['fname'].unique"
   ]
  },
  {
   "cell_type": "code",
   "execution_count": 9,
   "metadata": {},
   "outputs": [],
   "source": [
    "import os\n",
    "import pandas as pd"
   ]
  },
  {
   "cell_type": "code",
   "execution_count": 10,
   "metadata": {},
   "outputs": [],
   "source": [
    "class dataset_info(object):\n",
    "\n",
    "    def __init__(self):\n",
    "        self.root_dir = \"\""
   ]
  },
  {
   "cell_type": "code",
   "execution_count": 11,
   "metadata": {},
   "outputs": [
    {
     "data": {
      "text/html": [
       "<div>\n",
       "<style scoped>\n",
       "    .dataframe tbody tr th:only-of-type {\n",
       "        vertical-align: middle;\n",
       "    }\n",
       "\n",
       "    .dataframe tbody tr th {\n",
       "        vertical-align: top;\n",
       "    }\n",
       "\n",
       "    .dataframe thead th {\n",
       "        text-align: right;\n",
       "    }\n",
       "</style>\n",
       "<table border=\"1\" class=\"dataframe\">\n",
       "  <thead>\n",
       "    <tr style=\"text-align: right;\">\n",
       "      <th></th>\n",
       "      <th>1</th>\n",
       "      <th>2</th>\n",
       "    </tr>\n",
       "  </thead>\n",
       "  <tbody>\n",
       "    <tr>\n",
       "      <th>0</th>\n",
       "      <td>0</td>\n",
       "      <td>frame0vid3_3_09_1.jpg</td>\n",
       "    </tr>\n",
       "    <tr>\n",
       "      <th>1</th>\n",
       "      <td>0</td>\n",
       "      <td>frame4vid2_2_05_1.jpg</td>\n",
       "    </tr>\n",
       "    <tr>\n",
       "      <th>2</th>\n",
       "      <td>0</td>\n",
       "      <td>frame0vid3_3_10_1.jpg</td>\n",
       "    </tr>\n",
       "    <tr>\n",
       "      <th>3</th>\n",
       "      <td>0</td>\n",
       "      <td>frame0vid3_2_10_1.jpg</td>\n",
       "    </tr>\n",
       "    <tr>\n",
       "      <th>4</th>\n",
       "      <td>0</td>\n",
       "      <td>frame0vid2_3_06_1.jpg</td>\n",
       "    </tr>\n",
       "    <tr>\n",
       "      <th>...</th>\n",
       "      <td>...</td>\n",
       "      <td>...</td>\n",
       "    </tr>\n",
       "    <tr>\n",
       "      <th>220</th>\n",
       "      <td>1</td>\n",
       "      <td>frame0vid1_3_02_4.jpg</td>\n",
       "    </tr>\n",
       "    <tr>\n",
       "      <th>221</th>\n",
       "      <td>1</td>\n",
       "      <td>frame0vid1_2_02_4.jpg</td>\n",
       "    </tr>\n",
       "    <tr>\n",
       "      <th>222</th>\n",
       "      <td>1</td>\n",
       "      <td>frame0vid1_2_02_5.jpg</td>\n",
       "    </tr>\n",
       "    <tr>\n",
       "      <th>223</th>\n",
       "      <td>1</td>\n",
       "      <td>frame0vid1_3_02_5.jpg</td>\n",
       "    </tr>\n",
       "    <tr>\n",
       "      <th>224</th>\n",
       "      <td>1</td>\n",
       "      <td>frame0vid1_2_04_3.jpg</td>\n",
       "    </tr>\n",
       "  </tbody>\n",
       "</table>\n",
       "<p>225 rows × 2 columns</p>\n",
       "</div>"
      ],
      "text/plain": [
       "     1                      2\n",
       "0    0  frame0vid3_3_09_1.jpg\n",
       "1    0  frame4vid2_2_05_1.jpg\n",
       "2    0  frame0vid3_3_10_1.jpg\n",
       "3    0  frame0vid3_2_10_1.jpg\n",
       "4    0  frame0vid2_3_06_1.jpg\n",
       "..  ..                    ...\n",
       "220  1  frame0vid1_3_02_4.jpg\n",
       "221  1  frame0vid1_2_02_4.jpg\n",
       "222  1  frame0vid1_2_02_5.jpg\n",
       "223  1  frame0vid1_3_02_5.jpg\n",
       "224  1  frame0vid1_2_04_3.jpg\n",
       "\n",
       "[225 rows x 2 columns]"
      ]
     },
     "execution_count": 11,
     "metadata": {},
     "output_type": "execute_result"
    }
   ],
   "source": [
    "image_dir = \"/home/yeldar/Documents/Liveness/datasets/\"\n",
    "CUSTOM_Train = dataset_info()\n",
    "CUSTOM_Train.root_dir = os.path.join(image_dir, \"sample_dataset\")\n",
    "data_dir = CUSTOM_Train.root_dir\n",
    "root_dir = os.path.join(data_dir, \"Train_files\")\n",
    "info_list = os.path.join(data_dir, \"train_list.csv\")\n",
    "labels = pd.read_csv(info_list, delimiter=\",\", header=None).drop([0], axis=1)\n",
    "labels"
   ]
  },
  {
   "cell_type": "code",
   "execution_count": 14,
   "metadata": {},
   "outputs": [
    {
     "name": "stdout",
     "output_type": "stream",
     "text": [
      "frame0vid3_3_09_1.jpg /home/yeldar/Documents/Liveness/datasets/sample_dataset/Train_files/frame0vid3_3_09_1.jpg 0\n"
     ]
    }
   ],
   "source": [
    "idx = 0\n",
    "image_name = str(labels.iloc[idx, 1])\n",
    "image_path = os.path.join(root_dir, image_name)\n",
    "spoofing_label = labels.iloc[idx, 0]\n",
    "print(image_name, image_path, spoofing_label)"
   ]
  },
  {
   "cell_type": "code",
   "execution_count": null,
   "metadata": {},
   "outputs": [],
   "source": [
    "image_name = str(labels.iloc[idx, 1])\n",
    "image_path = os.path.join(root_dir, image_name)\n"
   ]
  }
 ],
 "metadata": {
  "kernelspec": {
   "display_name": "Python 3 (ipykernel)",
   "language": "python",
   "name": "python3"
  },
  "language_info": {
   "codemirror_mode": {
    "name": "ipython",
    "version": 3
   },
   "file_extension": ".py",
   "mimetype": "text/x-python",
   "name": "python",
   "nbconvert_exporter": "python",
   "pygments_lexer": "ipython3",
   "version": "3.8.18"
  }
 },
 "nbformat": 4,
 "nbformat_minor": 5
}
